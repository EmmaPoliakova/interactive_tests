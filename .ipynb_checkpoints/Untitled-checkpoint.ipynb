{
 "cells": [
  {
   "cell_type": "code",
   "execution_count": null,
   "metadata": {},
   "outputs": [],
   "source": [
    "import numpy as np"
   ]
  },
  {
   "cell_type": "code",
   "execution_count": null,
   "metadata": {},
   "outputs": [],
   "source": [
    "N = 256\n",
    "iter = 10"
   ]
  },
  {
   "cell_type": "code",
   "execution_count": null,
   "metadata": {},
   "outputs": [],
   "source": [
    "def settings():"
   ]
  },
  {
   "cell_type": "code",
   "execution_count": null,
   "metadata": {},
   "outputs": [],
   "source": [
    "def setUp():\n",
    "    fluid = Fluid(0.1,0,0)"
   ]
  },
  {
   "cell_type": "code",
   "execution_count": null,
   "metadata": {},
   "outputs": [],
   "source": [
    "def draw():"
   ]
  },
  {
   "cell_type": "code",
   "execution_count": null,
   "metadata": {},
   "outputs": [],
   "source": [
    "def IX (x,y):\n",
    "    return(x+y*N)"
   ]
  },
  {
   "cell_type": "code",
   "execution_count": null,
   "metadata": {},
   "outputs": [],
   "source": [
    "class Fluid:\n",
    "    def __init__(self, dt, diffusion,viscosity, ):\n",
    "    self.size = N\n",
    "    self.dt = dt\n",
    "    self.diff = diffusion\n",
    "    self.visc = viscosity\n",
    "    self.s = np.zeros((N,N))\n",
    "    self.density = np.zeros((N,N))\n",
    "    self.Vx = np.zeros((N,N))\n",
    "    self.Vy = np.zeros((N,N))\n",
    "    \n",
    "    def addDensity(x,y,amount):\n",
    "        index = IX(x,y)\n",
    "        this.density[index] += amount\n",
    "        \n",
    "    def addVelocity(x,y,amountX, amountY):\n",
    "        index = IX(x,y)\n",
    "        this.Vx[index] += amountX\n",
    "        this.Vy[index] += amountY"
   ]
  },
  {
   "cell_type": "code",
   "execution_count": null,
   "metadata": {},
   "outputs": [],
   "source": [
    "static void set_bnd(int b, float *x, int N)\n",
    "{\n",
    "    for(int j = 1; j < N - 1; j++) {\n",
    "        for(int i = 1; i < N - 1; i++) {\n",
    "            x[IX(i, j, 0  )] = b == 3 ? -x[IX(i, j, 1  )] : x[IX(i, j, 1  )];\n",
    "            x[IX(i, j, N-1)] = b == 3 ? -x[IX(i, j, N-2)] : x[IX(i, j, N-2)];\n",
    "        }\n",
    "    }\n",
    "    for(int k = 1; k < N - 1; k++) {\n",
    "        for(int i = 1; i < N - 1; i++) {\n",
    "            x[IX(i, 0  , k)] = b == 2 ? -x[IX(i, 1  , k)] : x[IX(i, 1  , k)];\n",
    "            x[IX(i, N-1, k)] = b == 2 ? -x[IX(i, N-2, k)] : x[IX(i, N-2, k)];\n",
    "        }\n",
    "    }\n",
    "    for(int k = 1; k < N - 1; k++) {\n",
    "        for(int j = 1; j < N - 1; j++) {\n",
    "            x[IX(0  , j, k)] = b == 1 ? -x[IX(1  , j, k)] : x[IX(1  , j, k)];\n",
    "            x[IX(N-1, j, k)] = b == 1 ? -x[IX(N-2, j, k)] : x[IX(N-2, j, k)];\n",
    "        }\n",
    "    }\n",
    "    \n",
    "    x[IX(0, 0, 0)]       = 0.33f * (x[IX(1, 0, 0)]\n",
    "                                  + x[IX(0, 1, 0)]\n",
    "                                  + x[IX(0, 0, 1)]);\n",
    "    x[IX(0, N-1, 0)]     = 0.33f * (x[IX(1, N-1, 0)]\n",
    "                                  + x[IX(0, N-2, 0)]\n",
    "                                  + x[IX(0, N-1, 1)]);\n",
    "    x[IX(0, 0, N-1)]     = 0.33f * (x[IX(1, 0, N-1)]\n",
    "                                  + x[IX(0, 1, N-1)]\n",
    "                                  + x[IX(0, 0, N)]);\n",
    "    x[IX(0, N-1, N-1)]   = 0.33f * (x[IX(1, N-1, N-1)]\n",
    "                                  + x[IX(0, N-2, N-1)]\n",
    "                                  + x[IX(0, N-1, N-2)]);\n",
    "    x[IX(N-1, 0, 0)]     = 0.33f * (x[IX(N-2, 0, 0)]\n",
    "                                  + x[IX(N-1, 1, 0)]\n",
    "                                  + x[IX(N-1, 0, 1)]);\n",
    "    x[IX(N-1, N-1, 0)]   = 0.33f * (x[IX(N-2, N-1, 0)]\n",
    "                                  + x[IX(N-1, N-2, 0)]\n",
    "                                  + x[IX(N-1, N-1, 1)]);\n",
    "    x[IX(N-1, 0, N-1)]   = 0.33f * (x[IX(N-2, 0, N-1)]\n",
    "                                  + x[IX(N-1, 1, N-1)]\n",
    "                                  + x[IX(N-1, 0, N-2)]);\n",
    "    x[IX(N-1, N-1, N-1)] = 0.33f * (x[IX(N-2, N-1, N-1)]\n",
    "                                  + x[IX(N-1, N-2, N-1)]\n",
    "                                  + x[IX(N-1, N-1, N-2)]);"
   ]
  },
  {
   "cell_type": "code",
   "execution_count": null,
   "metadata": {},
   "outputs": [],
   "source": [
    "def lin_solve(b, x, x0, a, c)\n",
    "\n",
    "    cRecip = 1.0 / c;\n",
    "    for k = 0 in range(iter):\n",
    "        for j = 1 in range(N-1):\n",
    "            for i = 1 in range(N-1):\n",
    "                x[IX(i, j)] =\n",
    "                    (x0[IX(i, j)]\n",
    "                            + a*(    x[IX(i+1, j)]\n",
    "                                    +x[IX(i-1, j)]\n",
    "                                    +x[IX(i, j+1)]\n",
    "                                    +x[IX(i, j-1)]\n",
    " \n",
    "                           )) * cRecip;\n",
    "                \n",
    "            \n",
    "        \n",
    "        set_bnd(b, x, N);\n",
    "    \n"
   ]
  },
  {
   "cell_type": "code",
   "execution_count": null,
   "metadata": {},
   "outputs": [],
   "source": [
    "def diffuse (b, x, x0, diff, dt):\n",
    "    a = dt * diff * (N - 2) * (N - 2)\n",
    "    lin_solve(b, x, x0, a, 1 + 6 * a)"
   ]
  },
  {
   "cell_type": "code",
   "execution_count": null,
   "metadata": {},
   "outputs": [],
   "source": [
    "def project(velocX, velocY, velocZ, p, div):\n",
    "\n",
    "        for j  in range(1, N-1):\n",
    "            for i  in range(1, N-1):\n",
    "                div[IX(i, j)] = -0.5f*(\n",
    "                         velocX[IX(i+1, j)]\n",
    "                        -velocX[IX(i-1, j)]\n",
    "                        +velocY[IX(i, j+1)]\n",
    "                        -velocY[IX(i, j-1)]\n",
    "                        )/N;\n",
    "                p[IX(i, j)] = 0;\n",
    "\n",
    "                \n",
    "    set_bnd(0, div, N); \n",
    "    set_bnd(0, p, N);\n",
    "    lin_solve(0, p, div, 1, 6);\n",
    "    \n",
    "    for j in range(1, N-1):\n",
    "        for i in range(1, N-1):\n",
    "            velocX[IX(i, j)] -= 0.5f * (  p[IX(i+1, j)]\n",
    "                                                -p[IX(i-1, j)]) * N;\n",
    "            velocY[IX(i, j)] -= 0.5f * (  p[IX(i, j+1, k)]\n",
    "                                                -p[IX(i, j-1)]) * N;\n",
    "         \n",
    "\n",
    "    set_bnd(1, velocX, N);\n",
    "    set_bnd(2, velocY, N);\n",
    "    set_bnd(3, velocZ, N);\n"
   ]
  },
  {
   "cell_type": "code",
   "execution_count": null,
   "metadata": {},
   "outputs": [],
   "source": [
    "def advect(b, d, d0,  velocX, velocY, dt):\n",
    "\n",
    "    i0, i1, j0, j1 = 0\n",
    "    \n",
    "    dtx = dt * (N - 2)\n",
    "    dty = dt * (N - 2)\n",
    "\n",
    "    \n",
    "    s0, s1, t0, t1 = 0\n",
    "    tmp1, tmp2, x, y = 0\n",
    "    \n",
    "    Nfloat = N\n",
    "    ifloat, jfloat = 1\n",
    "\n",
    "    \n",
    "\n",
    "    for j in range(1, N-1): \n",
    "        for i in range(1, N-1):\n",
    "            tmp1 = dtx * velocX[IX(i, j)]\n",
    "            tmp2 = dty * velocY[IX(i, j)]\n",
    "\n",
    "            x    = ifloat - tmp1 \n",
    "            y    = jfloat - tmp2\n",
    "\n",
    "                \n",
    "            if(x < 0.5f): \n",
    "                x = 0.5f \n",
    "            if(x > Nfloat + 0.5f): \n",
    "                x = Nfloat + 0.5f\n",
    "                i0 = floor(x) \n",
    "                i1 = i0 + 1.0f\n",
    "            if(y < 0.5f):\n",
    "                y = 0.5f \n",
    "            if(y > Nfloat + 0.5f):\n",
    "                y = Nfloat + 0.5f \n",
    "                j0 = floor(y)\n",
    "                j1 = j0 + 1.0f \n",
    "\n",
    "                \n",
    "            s1 = x - i0\n",
    "            s0 = 1.0f - s1\n",
    "            t1 = y - j0\n",
    "            t0 = 1.0f - t1\n",
    "\n",
    "                \n",
    "            i0i = i0\n",
    "            i1i = i1\n",
    "            j0i = j0\n",
    "            j1i = j1\n",
    "\n",
    "                \n",
    "            d[IX(i, j)] =                \n",
    "                s0  * ( t0 * d0[IX(i0i, j0i)])\n",
    "                    + ( t1 * d0[IX(i0i, j1i)])\n",
    "                + s1 * ( t0  * d0[IX(i1i, j0i)])\n",
    "                     +( t1 * d0[IX(i1i, j1i)])\n",
    "            ifloat += 1\n",
    "        jfloat += 1\n",
    "\n",
    "\n",
    "    set_bnd(b, d, N)\n",
    "\n"
   ]
  }
 ],
 "metadata": {
  "kernelspec": {
   "display_name": "Python 3",
   "language": "python",
   "name": "python3"
  },
  "language_info": {
   "codemirror_mode": {
    "name": "ipython",
    "version": 3
   },
   "file_extension": ".py",
   "mimetype": "text/x-python",
   "name": "python",
   "nbconvert_exporter": "python",
   "pygments_lexer": "ipython3",
   "version": "3.6.5"
  }
 },
 "nbformat": 4,
 "nbformat_minor": 4
}
