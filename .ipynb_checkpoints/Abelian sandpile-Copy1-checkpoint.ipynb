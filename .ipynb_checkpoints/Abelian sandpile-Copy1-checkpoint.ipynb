{
 "cells": [
  {
   "cell_type": "markdown",
   "metadata": {},
   "source": [
    "# Abelian sandpile model"
   ]
  },
  {
   "cell_type": "markdown",
   "metadata": {},
   "source": [
    "Your task is to fill in the sand_simulation function that takes the sandpile array and checks if any cell contains more than 3 grains of sand. If it does, the cell is toppled and 4 grains of sand are distributed to its neighbours [(i-1) j, (i+1) j, i (j-1), i (j+1)] The function is passed an array with the sand and an integer N that is the size of the array. The function needs to return the updated array after one time step.\n",
    "\n",
    "### Colour scheme:\n",
    "* white if cell contains no sand\n",
    "* green if cell contains 1 grain of sand\n",
    "* blue if cell contains 2 grains of sand\n",
    "* yellow if cell contains 3 grains of sand\n",
    "* red if cell contains 4 or more grains of sand\n",
    "\n",
    "### Some helpful functions:\n",
    "* array = np.zeros((n,m)) - will create an n x m array filled with zeroes \n",
    "* n % m - n is divided by m, and the remainder is returned\n",
    "* random.randint(0,n) will return a random integer from the [0,n] interval\n"
   ]
  },
  {
   "cell_type": "markdown",
   "metadata": {},
   "source": [
    "### Arrays:\n",
    "You can choose whether you want to use a standard array or the wrap around array, the test cases will not be influenced by this. If you are using the standard array make sure you do not go out of bounds when distributing the sand."
   ]
  },
  {
   "cell_type": "markdown",
   "metadata": {},
   "source": [
    "To get started, run all of the code cells. This should show an empty canvas with buttons. You can generate a starting sandpile but the core algorithm is missing."
   ]
  },
  {
   "cell_type": "code",
   "execution_count": 247,
   "metadata": {
    "tags": [
     "hide-input",
     "hide-cell"
    ]
   },
   "outputs": [],
   "source": [
    "#The first set of cells is for setting up the grid only, you do not need to edit these.\n",
    "import numpy as np\n",
    "import time\n",
    "from ipycanvas import hold_canvas,Canvas\n",
    "import ipywidgets as widgets\n",
    "from ipywidgets import Button, HBox, VBox, Layout\n",
    "import threading\n",
    "import random\n"
   ]
  },
  {
   "cell_type": "code",
   "execution_count": 248,
   "metadata": {
    "hide_input": false
   },
   "outputs": [],
   "source": [
    "#draw the current state of the simulation array with colours\n",
    "def draw_cells(sandpile, canvas, cell_size, N):\n",
    "    global colours\n",
    "    with hold_canvas(canvas):\n",
    "        canvas.clear()\n",
    "        for i in range(N):\n",
    "            for j in range(N):\n",
    "                if(sandpile[i][j]!=0):\n",
    "                    if (sandpile[i][j]>=4):\n",
    "                        canvas.fill_style = colours.get(4) \n",
    "                    else:\n",
    "                        canvas.fill_style = colours.get(sandpile[i][j])\n",
    "                    canvas.fill_rect(i * cell_size, j * cell_size, cell_size)\n"
   ]
  },
  {
   "cell_type": "code",
   "execution_count": 249,
   "metadata": {},
   "outputs": [],
   "source": [
    "#randomly fills the array with sand\n",
    "def random_setup(sandpile, N):\n",
    "    for i in range(N):\n",
    "        for j in range(N):\n",
    "            sandpile[i][j] = random.randint(0,5) # add 0-5 grains of sand to each cell\n",
    "            \n",
    "    return(sandpile)\n",
    "    "
   ]
  },
  {
   "cell_type": "code",
   "execution_count": 250,
   "metadata": {
    "hide_input": false
   },
   "outputs": [],
   "source": [
    "#simulation function, will run until stop button is pressed\n",
    "def play_game():\n",
    "    global play\n",
    "    play = True\n",
    "    \n",
    "    global sandpile\n",
    "    global canvas\n",
    "    global N\n",
    "    global cell_size\n",
    "    \n",
    "    draw_cells(sandpile, canvas, cell_size,N)\n",
    "    \n",
    "    while play:\n",
    "        sandpile = sand_simulation(sandpile, N)\n",
    "        draw_cells(sandpile, canvas, cell_size, N)\n",
    "        time.sleep(0.1)"
   ]
  },
  {
   "cell_type": "code",
   "execution_count": 251,
   "metadata": {
    "hide_input": false
   },
   "outputs": [],
   "source": [
    "#start the simulation button\n",
    "def start_game(b):\n",
    "    thread = threading.Thread(target=play_game)\n",
    "    thread.start()"
   ]
  },
  {
   "cell_type": "code",
   "execution_count": 252,
   "metadata": {
    "hide_input": false
   },
   "outputs": [],
   "source": [
    "# clear canvas button\n",
    "def clear_game(b):\n",
    "    global sandpile\n",
    "    global canvas\n",
    "    global play\n",
    "    global N\n",
    "    play = False\n",
    "    canvas.clear()\n",
    "    sandpile = np.zeros((N, N))"
   ]
  },
  {
   "cell_type": "code",
   "execution_count": 253,
   "metadata": {
    "hide_input": false
   },
   "outputs": [],
   "source": [
    "#pause button\n",
    "def pause_game(b):\n",
    "    global play \n",
    "    play = False"
   ]
  },
  {
   "cell_type": "code",
   "execution_count": 254,
   "metadata": {},
   "outputs": [],
   "source": [
    "def setup_game(b):\n",
    "    global sandpile\n",
    "    global canvas\n",
    "    global N\n",
    "    global cell_size\n",
    "    sandpile = random_setup(sandpile, N)\n",
    "    draw_cells(sandpile, canvas, cell_size, N)"
   ]
  },
  {
   "cell_type": "code",
   "execution_count": 255,
   "metadata": {},
   "outputs": [],
   "source": [
    "# This is the core algorithm for the simulation. \n",
    "# To pass the first 2 test cases only check if any of the cells is larger than 3 and topple the sand accordingly. \n",
    "# Do not add any new sand grains. Once you have this working feel free to experiment with adding sand to random cells.\n",
    "\n",
    "def sand_simulation(sandpile, N):\n",
    "    #TASK 1\n",
    "    next_pile = np.zeros((N,N))\n",
    "    for i in range(N):\n",
    "        for j in range(N):\n",
    "            if (sandpile[i][j]<4):\n",
    "                next_pile[i][j] = sandpile[i][j] \n",
    "                \n",
    "    for i in range(N):\n",
    "        for j in range(N):\n",
    "            if (sandpile[i][j]>=4):\n",
    "                next_pile[i][j] = sandpile[i][j] - 4 \n",
    "                next_pile[(i-1)%N][j] += 1\n",
    "                next_pile[(i+1)%N][j] += 1\n",
    "                next_pile[i][(j-1)%N] += 1\n",
    "                next_pile[i][(j+1)%N] += 1\n",
    "                \n",
    "                   \n",
    "    return(next_pile)\n",
    "            "
   ]
  },
  {
   "cell_type": "code",
   "execution_count": 256,
   "metadata": {
    "scrolled": false
   },
   "outputs": [
    {
     "data": {
      "application/vnd.jupyter.widget-view+json": {
       "model_id": "fb607c38947042348b326e763a7d3355",
       "version_major": 2,
       "version_minor": 0
      },
      "text/plain": [
       "HBox(children=(Canvas(layout=Layout(height='500px', width='700px'), size=(700, 500)), VBox(children=(Button(de…"
      ]
     },
     "metadata": {},
     "output_type": "display_data"
    }
   ],
   "source": [
    "#widget to display the simulation and the buttons\n",
    "N = 50 # array size\n",
    "cell_size = 500//N \n",
    "sandpile = np.zeros((N, N))\n",
    "sandpile[24][24] = 1000\n",
    "colours = {0:\"white\" , 1:\"green\" , 2:\"blue\" , 3: \"yellow\", 4:\"brown\"} # colour scheme for the sand piles\n",
    "play = True\n",
    "\n",
    "start_button = Button(description=\"start\")\n",
    "stop_button = Button(description=\"stop\")\n",
    "setup_button = Button(description=\"set up\")\n",
    "clear_button = Button(description=\"clear\")\n",
    "\n",
    "\n",
    "canvas = Canvas( width=500, height=500)\n",
    "right_box = VBox([start_button, stop_button,  setup_button, clear_button])\n",
    "HBox([canvas,right_box])\n",
    "\n"
   ]
  },
  {
   "cell_type": "code",
   "execution_count": 257,
   "metadata": {
    "hide_input": false
   },
   "outputs": [],
   "source": [
    "start_button.on_click(start_game)\n",
    "stop_button.on_click(pause_game)\n",
    "clear_button.on_click(clear_game)\n",
    "setup_button.on_click(setup_game)"
   ]
  },
  {
   "cell_type": "markdown",
   "metadata": {},
   "source": [
    "There are 3 test cases to check if your function is working properly. A specific set up will be passed to your function and the output will be compared to the expected one. To complete the exercise, pass all 3 test cases with your functions. You can view the simulation for the first and second testcase by running the test cell first and then pressing play."
   ]
  },
  {
   "cell_type": "code",
   "execution_count": 258,
   "metadata": {},
   "outputs": [
    {
     "name": "stdout",
     "output_type": "stream",
     "text": [
      "Passed testcase 1\n"
     ]
    }
   ],
   "source": [
    "sandpile_to_test = np.zeros((N,N))\n",
    "sandpile_to_test[24][24] = 100\n",
    "sandpile = sandpile_to_test\n",
    "for i in range(10):\n",
    "    sandpile_to_test = sand_simulation(sandpile_to_test, N)\n",
    "    \n",
    "result = np.loadtxt(\"tests/testsolve1.txt\")\n",
    "\n",
    "if (np.array_equal(sandpile_to_test, result)):\n",
    "    print(\"Passed testcase 1\")\n",
    "else:\n",
    "    print(\"Failed testcase 1\")"
   ]
  },
  {
   "cell_type": "code",
   "execution_count": 259,
   "metadata": {},
   "outputs": [
    {
     "name": "stdout",
     "output_type": "stream",
     "text": [
      "Passed testcase 2\n"
     ]
    }
   ],
   "source": [
    "sandpile_to_test = np.loadtxt(\"tests/testcase2.txt\")\n",
    "result = np.loadtxt(\"tests/testsolve2.txt\")\n",
    "sandpile = sandpile_to_test\n",
    "if (np.array_equal(sand_simulation(sandpile_to_test,N), result)):\n",
    "    print(\"Passed testcase 2\")\n",
    "else:\n",
    "    print(\"Failed testcase 2\")\n",
    "    "
   ]
  },
  {
   "cell_type": "markdown",
   "metadata": {},
   "source": [
    "To pass the following test modify your simulation to add 1 grain of sand to the centre of the array each iteration. Use the function provided below instead of changing the original one."
   ]
  },
  {
   "cell_type": "code",
   "execution_count": 260,
   "metadata": {},
   "outputs": [],
   "source": [
    "def sand_simulation_1(sandpile, N):\n",
    "    #TASK 2\n",
    "    next_pile = np.zeros((N,N))\n",
    "                   \n",
    "    return(next_pile)\n",
    "            "
   ]
  },
  {
   "cell_type": "code",
   "execution_count": 261,
   "metadata": {},
   "outputs": [
    {
     "name": "stdout",
     "output_type": "stream",
     "text": [
      "Failed testcase 3\n"
     ]
    }
   ],
   "source": [
    "sandpile_to_test = np.zeros((N,N))\n",
    "sandpile_to_test[22:26, 22:26] = 4\n",
    "\n",
    "for i in range(100):\n",
    "    sandpile_to_test = sand_simulation_1(sandpile_to_test, N)\n",
    "    \n",
    "result = np.loadtxt(\"tests/testsolve3.txt\")\n",
    "if (np.array_equal(sandpile_to_test, result)):\n",
    "    print(\"Passed testcase 3\")\n",
    "else:\n",
    "    print(\"Failed testcase 3\")"
   ]
  },
  {
   "cell_type": "markdown",
   "metadata": {},
   "source": [
    "Here you can experiment with your own sandpile set-ups. Simply assign any number of sand grains to any of the cells in sandpile and press play to see what happens."
   ]
  },
  {
   "cell_type": "code",
   "execution_count": 262,
   "metadata": {},
   "outputs": [],
   "source": [
    "sandpile = np.zeros((N,N))\n",
    "#add sand here\n",
    "draw_cells(sandpile, canvas, cell_size, N)"
   ]
  },
  {
   "cell_type": "code",
   "execution_count": null,
   "metadata": {},
   "outputs": [],
   "source": []
  }
 ],
 "metadata": {
  "kernelspec": {
   "display_name": "Python 3",
   "language": "python",
   "name": "python3"
  },
  "language_info": {
   "codemirror_mode": {
    "name": "ipython",
    "version": 3
   },
   "file_extension": ".py",
   "mimetype": "text/x-python",
   "name": "python",
   "nbconvert_exporter": "python",
   "pygments_lexer": "ipython3",
   "version": "3.6.5"
  }
 },
 "nbformat": 4,
 "nbformat_minor": 4
}
