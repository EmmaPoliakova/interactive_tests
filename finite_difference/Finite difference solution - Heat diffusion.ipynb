{
 "cells": [
  {
   "cell_type": "markdown",
   "metadata": {},
   "source": [
    "# Finite difference solution"
   ]
  },
  {
   "cell_type": "markdown",
   "metadata": {},
   "source": []
  },
  {
   "cell_type": "code",
   "execution_count": null,
   "metadata": {},
   "outputs": [],
   "source": [
    "import numpy as np\n",
    "import matplotlib.pyplot as plt"
   ]
  },
  {
   "cell_type": "markdown",
   "metadata": {},
   "source": [
    "### Task 1:\n",
    "\n",
    "Using the formula below, fill in the missing dt variable. Set up an array u0 of size nx, ny with temperature Tcool. You may use this as a reference to create the initial array: https://numpy.org/doc/stable/reference/routines.array-creation.html"
   ]
  },
  {
   "cell_type": "markdown",
   "metadata": {},
   "source": [
    "<img src=\"files/tests/time.png\">"
   ]
  },
  {
   "cell_type": "code",
   "execution_count": null,
   "metadata": {},
   "outputs": [],
   "source": [
    "w = h = 10. # plate size, mm\n",
    "\n",
    "dx = dy = 0.1 # intervals in x-, y- directions, mm\n",
    "\n",
    "D = 4. # Thermal diffusivity of steel, mm2.s-1\n",
    "\n",
    "Tcool, Thot = 300, 700  #end and start temperatures\n",
    "\n",
    "nx, ny = int(w/dx), int(h/dy)\n",
    "\n",
    "dx2, dy2 = dx*dx, dy*dy\n",
    "dt = #Task 1\n",
    "\n",
    "u0 = # Task 1 \n",
    "u = u0.copy()\n",
    "\n",
    "# Initial conditions - circle of radius r centred at (cx,cy) (mm)\n",
    "r, cx, cy = 2, 5, 5\n",
    "r2 = r**2\n",
    "for i in range(nx):\n",
    "    for j in range(ny):\n",
    "        p2 = (i*dx-cx)**2 + (j*dy-cy)**2\n",
    "        if p2 < r2:\n",
    "            u0[i,j] = Thot"
   ]
  },
  {
   "cell_type": "markdown",
   "metadata": {},
   "source": [
    "### Task 2:\n",
    "\n",
    "Complete the time_step function implementing the provided formula. Using for loop is sufficient to do this, however if you would like to experiment with large number of times steps you would need to use array slicing. When doing the calculations, leave out the outermost rows and columns to serve as boundaries."
   ]
  },
  {
   "cell_type": "markdown",
   "metadata": {},
   "source": [
    "<img src=\"files/tests/2d.png\">"
   ]
  },
  {
   "cell_type": "code",
   "execution_count": null,
   "metadata": {},
   "outputs": [],
   "source": [
    "def time_step(u0, u):\n",
    "    #Task 2\n",
    "                   \n",
    "    u0 = u.copy()\n",
    "    \n",
    "    return u0, u"
   ]
  },
  {
   "cell_type": "markdown",
   "metadata": {},
   "source": [
    "After completing the time_step function first run the simulation with these current settings to pass the test case. After that you can change the number of steps and the times when you would like to plot the graphs. "
   ]
  },
  {
   "cell_type": "code",
   "execution_count": null,
   "metadata": {},
   "outputs": [],
   "source": [
    "# Number of timesteps\n",
    "nsteps = 101\n",
    "# Output 4 figures at these timesteps\n",
    "mfig = [0, 10, 50, 100]\n",
    "fignum = 0\n",
    "fig = plt.figure()\n",
    "\n",
    "for m in range(nsteps):\n",
    "    u0, u = time_step(u0, u)\n",
    "    if m in mfig:\n",
    "        fignum += 1\n",
    "        ax = fig.add_subplot(220 + fignum)\n",
    "        im = ax.imshow(u.copy(), cmap=plt.get_cmap('hot'), vmin=Tcool,vmax=Thot)\n",
    "        ax.set_axis_off()\n",
    "        ax.set_title('{:.1f} ms'.format(m*dt*1000))\n",
    "        \n",
    "fig.subplots_adjust(right=0.85)\n",
    "cbar_ax = fig.add_axes([0.9, 0.15, 0.03, 0.7])\n",
    "cbar_ax.set_xlabel('$T$ / K', labelpad=20)\n",
    "fig.colorbar(im, cax=cbar_ax)\n",
    "plt.show()"
   ]
  },
  {
   "cell_type": "markdown",
   "metadata": {},
   "source": [
    "Run this test case after running the simulation above."
   ]
  },
  {
   "cell_type": "code",
   "execution_count": null,
   "metadata": {},
   "outputs": [],
   "source": [
    "result = np.loadtxt(\"tests/testsolve1.txt\")\n",
    "if (np.array_equal(u0, result)):\n",
    "    print(\"Passed testcase 1\")\n",
    "else:\n",
    "    print(\"Failed testcase 1\")"
   ]
  }
 ],
 "metadata": {
  "kernelspec": {
   "display_name": "Python 3",
   "language": "python",
   "name": "python3"
  },
  "language_info": {
   "codemirror_mode": {
    "name": "ipython",
    "version": 3
   },
   "file_extension": ".py",
   "mimetype": "text/x-python",
   "name": "python",
   "nbconvert_exporter": "python",
   "pygments_lexer": "ipython3",
   "version": "3.6.5"
  }
 },
 "nbformat": 4,
 "nbformat_minor": 2
}
