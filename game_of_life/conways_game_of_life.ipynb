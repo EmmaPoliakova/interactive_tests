{
 "cells": [
  {
   "cell_type": "markdown",
   "metadata": {},
   "source": [
    "# Game of life"
   ]
  },
  {
   "cell_type": "markdown",
   "metadata": {},
   "source": [
    "This is an interacive jupyter notebook that lets you edit the code in any of the cells. All the code needs to be in Python 3. \n",
    "To run a part of the code, select a cell by clicking on it and press Run button from the toolbar. To run all cells in the notebook at once, select the Cell option from the toolbar and click Run all. You may use any of the imported libraries in the first cell. "
   ]
  },
  {
   "cell_type": "markdown",
   "metadata": {},
   "source": [
    "Your task is to fill in the check_neighbours function that takes the current generation array and updates it according to the rules of Conway's Game of Life. The function is passed an array with the cells and an integer N that is size of the array, however your are not required to use it. The function needs to return the updated array after one time step.\n",
    "### Some helpful functions:\n",
    "* array = np.zeros((n,m)) - will create an n x m array filled with zeroes \n",
    "* new_array = array_name.copy() - will copy the selected array so you can edit it without making changes in the original array\n",
    "* n % m - n is divided by m, and the remainder is returned\n"
   ]
  },
  {
   "cell_type": "markdown",
   "metadata": {},
   "source": [
    "### Arrays:\n",
    "The array indexes start at 0 and end at size-1. That means if you have 20x30 array accessing cell at array[19][29] will be okay but array[20][30] will cause an error. The simulation uses a wrap around array, meaning the first row is connected to the last and the same goes for columns. This is a useful tool as it prevents out-of-bounds errors. The simulation array is filled with 1s and 0s, 1s representing the live cells, 0s representing the empty spaces."
   ]
  },
  {
   "cell_type": "markdown",
   "metadata": {},
   "source": [
    "To get started, run all of the code cells. This should show the grid with buttons, but the core algorithm is missing."
   ]
  },
  {
   "cell_type": "code",
   "execution_count": 1,
   "metadata": {
    "tags": [
     "hide-input",
     "hide-cell"
    ]
   },
   "outputs": [],
   "source": [
    "#The first set of cells is for setting up the grid only, you do not need to edit these.\n",
    "import numpy as np\n",
    "import time\n",
    "from ipycanvas import hold_canvas, MultiCanvas\n",
    "import ipywidgets as widgets\n",
    "from ipywidgets import Button, HBox, VBox, Layout\n",
    "import threading\n",
    "import random\n"
   ]
  },
  {
   "cell_type": "code",
   "execution_count": 2,
   "metadata": {
    "hide_input": false
   },
   "outputs": [],
   "source": [
    "#set up canvas\n",
    "def draw_grid(canvas):\n",
    "    canvas.stroke_style = '#c1bcbb'\n",
    "    for x in range(1,500,10):\n",
    "        canvas.begin_path()\n",
    "        canvas.move_to(x, 0)\n",
    "        canvas.line_to(x, 500)\n",
    "        canvas.stroke()\n",
    "        \n",
    "    canvas.move_to(500, 0)\n",
    "    canvas.line_to(500, 500)\n",
    "    canvas.stroke() \n",
    "    \n",
    "        \n",
    "    for x in range(1,500,10):\n",
    "        canvas.begin_path()\n",
    "        canvas.move_to(0, x)\n",
    "        canvas.line_to(500, x)\n",
    "        canvas.stroke() \n",
    "        \n",
    "    canvas.move_to(0, 500)\n",
    "    canvas.line_to(500, 500)\n",
    "    canvas.stroke()\n",
    "        \n"
   ]
  },
  {
   "cell_type": "code",
   "execution_count": 3,
   "metadata": {
    "hide_input": false
   },
   "outputs": [],
   "source": [
    "#draw the current state of the simulation array\n",
    "def draw_cells(live_cells, canvas, cell_size):\n",
    "    with hold_canvas(canvas):\n",
    "        canvas.clear()\n",
    "        r = 0\n",
    "        for row in live_cells:\n",
    "            c = 0\n",
    "            for value in row:\n",
    "                if value:\n",
    "                    canvas.fill_rect(r * cell_size, c * cell_size, cell_size)\n",
    "\n",
    "                c += 1\n",
    "            r += 1\n"
   ]
  },
  {
   "cell_type": "code",
   "execution_count": 4,
   "metadata": {},
   "outputs": [],
   "source": [
    "#randomly fills the array will live cells\n",
    "def random_setup(live_cells):\n",
    "    for i in range(50):\n",
    "        for j in range(50):\n",
    "            live_cells[i][j] = random.randint(0,1)\n",
    "            \n",
    "    "
   ]
  },
  {
   "cell_type": "code",
   "execution_count": 5,
   "metadata": {
    "hide_input": false
   },
   "outputs": [],
   "source": [
    "#some special cases for the simulation\n",
    "def on_change(selected):\n",
    "    global canvas\n",
    "    global live_cells\n",
    "    \n",
    "    live_cells = np.zeros((50, 50))\n",
    "    if selected['new']==1 :\n",
    "        pulsar =\\\n",
    "        [[0,0,0,0,0,0,0,0,0,0,0,0,0,0,0,0,0],\n",
    "         [0,0,0,0,0,0,0,0,0,0,0,0,0,0,0,0,0],\n",
    "         [0,0,0,0,1,1,1,0,0,0,1,1,1,0,0,0,0],\n",
    "         [0,0,0,0,0,0,0,0,0,0,0,0,0,0,0,0,0],\n",
    "         [0,0,1,0,0,0,0,1,0,1,0,0,0,0,1,0,0],\n",
    "         [0,0,1,0,0,0,0,1,0,1,0,0,0,0,1,0,0],\n",
    "         [0,0,1,0,0,0,0,1,0,1,0,0,0,0,1,0,0],\n",
    "         [0,0,0,0,1,1,1,0,0,0,1,1,1,0,0,0,0],\n",
    "         [0,0,0,0,0,0,0,0,0,0,0,0,0,0,0,0,0],\n",
    "         [0,0,0,0,1,1,1,0,0,0,1,1,1,0,0,0,0],\n",
    "         [0,0,1,0,0,0,0,1,0,1,0,0,0,0,1,0,0],\n",
    "         [0,0,1,0,0,0,0,1,0,1,0,0,0,0,1,0,0],\n",
    "         [0,0,1,0,0,0,0,1,0,1,0,0,0,0,1,0,0],\n",
    "         [0,0,0,0,0,0,0,0,0,0,0,0,0,0,0,0,0],\n",
    "         [0,0,0,0,1,1,1,0,0,0,1,1,1,0,0,0,0],\n",
    "         [0,0,0,0,0,0,0,0,0,0,0,0,0,0,0,0,0],\n",
    "         [0,0,0,0,0,0,0,0,0,0,0,0,0,0,0,0,0],]\n",
    "        \n",
    "        live_cells[1:18,1:18] = pulsar\n",
    "            \n",
    "    if selected['new']==2 :\n",
    "        beacon =\\\n",
    "        [[0,0,0,0,0,0], \n",
    "         [0,1,1,0,0,0],\n",
    "         [0,1,1,0,0,0],\n",
    "         [0,0,0,1,1,0],\n",
    "         [0,0,0,1,1,0],\n",
    "         [0,0,0,0,0,0]]\n",
    "        \n",
    "        live_cells[1:7,1:7] = beacon\n",
    "        \n",
    "    if selected['new']==3 :\n",
    "        spaceship=\\\n",
    "        [[0,0,0,0,0,0,0,0,0,0,0],\n",
    "         [0,0,0,0,0,1,1,0,0,0,0],\n",
    "         [0,0,0,1,0,0,0,0,1,0,0],\n",
    "         [0,0,1,0,0,0,0,0,0,0,0],\n",
    "         [0,0,1,0,0,0,0,0,1,0,0],\n",
    "         [0,0,1,1,1,1,1,1,0,0,0],\n",
    "         [0,0,0,0,0,0,0,0,0,0,0],\n",
    "         [0,0,0,0,0,0,0,0,0,0,0],\n",
    "         [0,0,0,0,0,0,0,0,0,0,0]]\n",
    "        \n",
    "        live_cells[1:10,1:12] = spaceship\n",
    "        \n",
    "    if selected['new']==4 :\n",
    "        penta=\\\n",
    "        [[0,0,0,0,0,0,0,0,0,0,0,0,0,0,0,0,0,0],\n",
    "         [0,0,0,0,0,0,0,0,0,0,0,0,0,0,0,0,0,0],\n",
    "         [0,0,0,0,0,0,0,0,0,0,0,0,0,0,0,0,0,0],\n",
    "         [0,0,0,0,0,0,0,0,0,0,0,0,0,0,0,0,0,0],\n",
    "         [0,0,0,0,0,0,1,0,0,0,0,1,0,0,0,0,0,0],\n",
    "         [0,0,0,0,1,1,0,1,1,1,1,0,1,1,0,0,0,0],\n",
    "         [0,0,0,0,0,0,1,0,0,0,0,1,0,0,0,0,0,0],\n",
    "         [0,0,0,0,0,0,0,0,0,0,0,0,0,0,0,0,0,0],\n",
    "         [0,0,0,0,0,0,0,0,0,0,0,0,0,0,0,0,0,0],\n",
    "         [0,0,0,0,0,0,0,0,0,0,0,0,0,0,0,0,0,0],\n",
    "         [0,0,0,0,0,0,0,0,0,0,0,0,0,0,0,0,0,0]]\n",
    "        \n",
    "        live_cells[1:12,1:19] = penta\n",
    "        \n",
    "    if selected['new']==5 :\n",
    "            glider_gun =\\\n",
    "            [[0,0,0,0,0,0,0,0,0,0,0,0,0,0,0,0,0,0,0,0,0,0,0,0,1,0,0,0,0,0,0,0,0,0,0,0],\n",
    "             [0,0,0,0,0,0,0,0,0,0,0,0,0,0,0,0,0,0,0,0,0,0,1,0,1,0,0,0,0,0,0,0,0,0,0,0],\n",
    "             [0,0,0,0,0,0,0,0,0,0,0,0,1,1,0,0,0,0,0,0,1,1,0,0,0,0,0,0,0,0,0,0,0,0,1,1],\n",
    "             [0,0,0,0,0,0,0,0,0,0,0,1,0,0,0,1,0,0,0,0,1,1,0,0,0,0,0,0,0,0,0,0,0,0,1,1],\n",
    "             [1,1,0,0,0,0,0,0,0,0,1,0,0,0,0,0,1,0,0,0,1,1,0,0,0,0,0,0,0,0,0,0,0,0,0,0],\n",
    "             [1,1,0,0,0,0,0,0,0,0,1,0,0,0,1,0,1,1,0,0,0,0,1,0,1,0,0,0,0,0,0,0,0,0,0,0],\n",
    "             [0,0,0,0,0,0,0,0,0,0,1,0,0,0,0,0,1,0,0,0,0,0,0,0,1,0,0,0,0,0,0,0,0,0,0,0],\n",
    "             [0,0,0,0,0,0,0,0,0,0,0,1,0,0,0,1,0,0,0,0,0,0,0,0,0,0,0,0,0,0,0,0,0,0,0,0],\n",
    "             [0,0,0,0,0,0,0,0,0,0,0,0,1,1,0,0,0,0,0,0,0,0,0,0,0,0,0,0,0,0,0,0,0,0,0,0]]\n",
    "            \n",
    "            live_cells[1:10,1:37] = glider_gun\n",
    "    \n",
    "    if selected['new']==6 :\n",
    "        random_setup(live_cells)\n",
    "        \n",
    "    draw_cells(live_cells, canvas[1], 10)  "
   ]
  },
  {
   "cell_type": "code",
   "execution_count": 6,
   "metadata": {
    "hide_input": false
   },
   "outputs": [],
   "source": [
    "#simulation function, will run until stop or pause button is pressed\n",
    "def play_game():\n",
    "    global play\n",
    "    play = True\n",
    "    global live_cells\n",
    "    global canvas\n",
    "    draw_cells(live_cells, canvas[1], 10)\n",
    "    while play:\n",
    "        live_cells = check_neighbours(live_cells, 50)\n",
    "        draw_cells(live_cells, canvas[1], 10)\n",
    "        time.sleep(0.1)"
   ]
  },
  {
   "cell_type": "code",
   "execution_count": 7,
   "metadata": {
    "hide_input": false
   },
   "outputs": [],
   "source": [
    "#start the simulation button\n",
    "def start_game(b):\n",
    "    thread = threading.Thread(target=play_game)\n",
    "    thread.start()"
   ]
  },
  {
   "cell_type": "code",
   "execution_count": 8,
   "metadata": {
    "hide_input": false
   },
   "outputs": [],
   "source": [
    "# clear canvas button\n",
    "def clear_game(b):\n",
    "    global live_cells\n",
    "    global canvas\n",
    "    global play\n",
    "    play = False\n",
    "    canvas[1].clear()\n",
    "    live_cells = np.zeros((50, 50))"
   ]
  },
  {
   "cell_type": "code",
   "execution_count": 9,
   "metadata": {
    "hide_input": false
   },
   "outputs": [],
   "source": [
    "#pause button\n",
    "def pause_game(b):\n",
    "    global play \n",
    "    play = False"
   ]
  },
  {
   "cell_type": "code",
   "execution_count": 10,
   "metadata": {
    "scrolled": true
   },
   "outputs": [],
   "source": [
    "# TASK \n",
    "# receives current state of the simulation as n x n array and integer size of the array\n",
    "# returns next generation array for the given input\n",
    "def check_neighbours (live_cells, N):\n",
    "\n",
    " \n",
    "    return(live_cells)"
   ]
  },
  {
   "cell_type": "code",
   "execution_count": 11,
   "metadata": {
    "scrolled": false
   },
   "outputs": [
    {
     "data": {
      "application/vnd.jupyter.widget-view+json": {
       "model_id": "0a1a304148fb4807b1105eb61003e6f5",
       "version_major": 2,
       "version_minor": 0
      },
      "text/plain": [
       "HBox(children=(MultiCanvas(layout=Layout(height='500px', width='700px')), VBox(children=(Button(description='s…"
      ]
     },
     "metadata": {},
     "output_type": "display_data"
    }
   ],
   "source": [
    "#widget to display the simulation and the buttons\n",
    "live_cells = np.zeros((50, 50))\n",
    "play = True\n",
    "\n",
    "start_button = Button(description=\"start\")\n",
    "stop_button = Button(description=\"stop\")\n",
    "clear_button = Button(description=\"clear\")\n",
    "select_button = widgets.Dropdown(\n",
    "    options=[('Select', 0), ('Pulsar', 1), ('Beacon', 2), ('Spaceship', 3), ('Penta-decathlon', 4),('Glider gun', 5),('Random', 6)],\n",
    "    value = 0,\n",
    "    layout={'width': 'max-content'}\n",
    ")\n",
    "\n",
    "canvas = MultiCanvas(n_canvases=3, width=500, height=500)\n",
    "draw_grid(canvas[0])\n",
    "interaction_layer = canvas[2]\n",
    "right_box = VBox([start_button, stop_button, clear_button, widgets.Label(value =' '), widgets.Label(value ='Patterns: '), select_button])\n",
    "HBox([canvas,right_box])\n",
    "\n"
   ]
  },
  {
   "cell_type": "code",
   "execution_count": 12,
   "metadata": {
    "hide_input": false
   },
   "outputs": [],
   "source": [
    "start_button.on_click(start_game)\n",
    "stop_button.on_click(pause_game)\n",
    "clear_button.on_click(clear_game)\n",
    "select_button.observe(on_change, names='value')"
   ]
  },
  {
   "cell_type": "markdown",
   "metadata": {},
   "source": [
    "There are 3 test cases to check if your function is working properly. A random set up will be passed to your function and the output will be compared to the expected one. To complete the exercise, pass all 3 test cases with your function."
   ]
  },
  {
   "cell_type": "code",
   "execution_count": 13,
   "metadata": {},
   "outputs": [
    {
     "name": "stdout",
     "output_type": "stream",
     "text": [
      "Failed testcase 1\n"
     ]
    }
   ],
   "source": [
    "cells_to_test = np.loadtxt(\"tests/testcase1.txt\")\n",
    "result = np.loadtxt(\"tests/testsolve1.txt\")\n",
    "if (np.array_equal(check_neighbours(cells_to_test,50), result)):\n",
    "    print(\"Passed testcase 1\")\n",
    "else:\n",
    "    print(\"Failed testcase 1\")"
   ]
  },
  {
   "cell_type": "code",
   "execution_count": 14,
   "metadata": {},
   "outputs": [
    {
     "name": "stdout",
     "output_type": "stream",
     "text": [
      "Failed testcase 2\n"
     ]
    }
   ],
   "source": [
    "cells_to_test = np.loadtxt(\"tests/testcase2.txt\")\n",
    "result = np.loadtxt(\"tests/testsolve2.txt\")\n",
    "if (np.array_equal(check_neighbours(cells_to_test,50), result)):\n",
    "    print(\"Passed testcase 2\")\n",
    "else:\n",
    "    print(\"Failed testcase 2\")\n",
    "    "
   ]
  },
  {
   "cell_type": "code",
   "execution_count": 15,
   "metadata": {},
   "outputs": [
    {
     "name": "stdout",
     "output_type": "stream",
     "text": [
      "Failed testcase 3\n"
     ]
    }
   ],
   "source": [
    "cells_to_test = np.loadtxt(\"tests/testcase3.txt\")\n",
    "result = np.loadtxt(\"tests/testsolve3.txt\")\n",
    "if (np.array_equal(check_neighbours(cells_to_test,50), result)):\n",
    "    print(\"Passed testcase 3\")\n",
    "else:\n",
    "    print(\"Failed testcase 3\")"
   ]
  }
 ],
 "metadata": {
  "kernelspec": {
   "display_name": "Python 3",
   "language": "python",
   "name": "python3"
  },
  "language_info": {
   "codemirror_mode": {
    "name": "ipython",
    "version": 3
   },
   "file_extension": ".py",
   "mimetype": "text/x-python",
   "name": "python",
   "nbconvert_exporter": "python",
   "pygments_lexer": "ipython3",
   "version": "3.6.5"
  }
 },
 "nbformat": 4,
 "nbformat_minor": 4
}
