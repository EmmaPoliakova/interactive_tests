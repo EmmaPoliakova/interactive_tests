{
 "cells": [
  {
   "cell_type": "markdown",
   "metadata": {},
   "source": [
    "# Stress calculation and fracturing"
   ]
  },
  {
   "cell_type": "markdown",
   "metadata": {},
   "source": [
    "You will need the code from this part for part two and three. Make sure you download the complete exercise when you are finished. You can later upload this notebook back and use your code for the next two exercises. First save your code, then select this file in the folder and click download. "
   ]
  },
  {
   "cell_type": "code",
   "execution_count": null,
   "metadata": {},
   "outputs": [],
   "source": [
    "import numpy as np\n",
    "import math\n",
    "import matplotlib.pyplot as plt\n",
    "import pandas as pd\n",
    "\n",
    "e = 0.001 #relaxation threshold\n",
    "k = 1.0 #spring constant\n",
    "l = 1.0 #equilibrium distance this is initially 2 in the lattice but is set to 1 for the simulation\n",
    "n = 100 # size of the array\n",
    "fover = 1.1 #over relaxation scale\n",
    "\n",
    "lattice = np.zeros([n,n,2,1]) #array with particle positions [0] = x, [1] = y\n",
    "adjacent = np.zeros([n,n]).tolist() #array with list of neighbour particles"
   ]
  },
  {
   "cell_type": "markdown",
   "metadata": {},
   "source": [
    "## Part 1 - Triangular lattice and force calculation"
   ]
  },
  {
   "cell_type": "markdown",
   "metadata": {},
   "source": [
    "We'll start by creating the triangular lattice. The particles are stored in an array called lattice, which is an n x n x 2 x 1 array. The particles have two different sets of coordinates. To access the location where the particle is stored, use the usual indexing of arrays. To access the actual xy position of the particle you will need to write lattice[i][j][0] for the x coordinate and lattice[i][j][1] for the y coordinate. When creating the lattice you will need to scale the x coordinate with math.sqrt(3). This will make the triangles equilateral. <br>\n",
    "Below is the pattern in which the particles are arranged in the array. The empty positions are stored as 0 in the lattice array. If you want to find out if there is a particle in the current position use lattice[i][j].all()!=0  "
   ]
  },
  {
   "cell_type": "markdown",
   "metadata": {},
   "source": [
    "<img src=\"files/tests/lattice.png\">"
   ]
  },
  {
   "cell_type": "code",
   "execution_count": null,
   "metadata": {},
   "outputs": [],
   "source": [
    "# task 1: \n",
    "# fill the array called lattice so that it forms a triangular lattice, the distance between particles is 2 initially\n",
    "# use the variable n for iterating over the array, this will make experimenting with different sizes easier\n",
    "# the y coordinate remains the same as the array index\n",
    "# the x coordinate needs to be scaled before assigning\n",
    "def triangular():\n",
    "    global n, lattice #this will allow you to access and modify the variables declared outside this function\n",
    "\n",
    "\n",
    "triangular()\n"
   ]
  },
  {
   "cell_type": "code",
   "execution_count": null,
   "metadata": {},
   "outputs": [],
   "source": [
    "t_lattice = np.loadtxt(\"tests/testsolve1.txt\")\n",
    "if (np.array_equal(lattice[:, :, 0].flatten()+lattice[:, :, 1].flatten(), t_lattice)):\n",
    "    print(\"Passed testcase 1\")\n",
    "else:\n",
    "    print(\"Failed testcase 1\")"
   ]
  },
  {
   "cell_type": "code",
   "execution_count": null,
   "metadata": {},
   "outputs": [],
   "source": [
    "# if you did this correctly, the plot below will display particles that form triangles\n",
    "# if the displayed plot is too small run this cell again to apply the settings\n",
    "x = lattice[:, :, 0]\n",
    "y = lattice[:, :, 1]\n",
    "\n",
    "plt.axis('off')\n",
    "plt.rcParams[\"figure.figsize\"] = (10,13)\n",
    "plt.scatter(x, y, s = 7)\n",
    "plt.show()"
   ]
  },
  {
   "cell_type": "markdown",
   "metadata": {},
   "source": [
    "To observe the effect of change in the equilibrium distance we'll make a hole in the middle of the lattice. The centre of the circle is at [49, 49] and the radius is 10. Your task is to remove the particles from this circle by setting the particles' xy coordinates back to 0. "
   ]
  },
  {
   "cell_type": "code",
   "execution_count": null,
   "metadata": {},
   "outputs": [],
   "source": [
    "# task 2\n",
    "def circle():\n",
    "    global n, lattice\n",
    "\n",
    "    \n",
    "circle()            \n",
    "        "
   ]
  },
  {
   "cell_type": "code",
   "execution_count": null,
   "metadata": {},
   "outputs": [],
   "source": [
    "t_lattice = np.loadtxt(\"tests/testsolve2.txt\")\n",
    "if (np.array_equal(lattice[:, :, 0].flatten()+lattice[:, :, 1].flatten(), t_lattice)):\n",
    "    print(\"Passed testcase 2\")\n",
    "else:\n",
    "    print(\"Failed testcase 2\")"
   ]
  },
  {
   "cell_type": "code",
   "execution_count": null,
   "metadata": {},
   "outputs": [],
   "source": [
    "# the plot should show the same lattice as above but with the centre particles removed\n",
    "x = lattice[:, :, 0]\n",
    "y = lattice[:, :, 1]\n",
    "\n",
    "plt.axis('off')\n",
    "plt.rcParams[\"figure.figsize\"] = (10,13)\n",
    "plt.scatter(x, y, s = 7)\n",
    "plt.show()"
   ]
  },
  {
   "cell_type": "markdown",
   "metadata": {},
   "source": [
    "This part of the code creates a list of neigbours for each particle in the lattice and stores it in array called adjacent. The array indexes match for lattice and adjacent. Using adjacent[i][j] will return a list of array coordinates (not the actual x,y positions) of adjacent particles. <br>\n",
    "You can iterate over the items in a list without having to use indexes using syntax: <br>\n",
    "<br>\n",
    "for item in list:\n",
    "    #do something"
   ]
  },
  {
   "cell_type": "code",
   "execution_count": null,
   "metadata": {},
   "outputs": [],
   "source": [
    "# this code creates adjacency list for each particle in the lattice\n",
    "# if you use this array in the force calculation you will not need to check for borders or empty spaces however, it is not necessary\n",
    "def adjacent_particles():\n",
    "    global lattice, n, adjacent\n",
    "    neighbours = [(-1,-1),(-1,1),(0,-2),(0,2),(1,-1),(1,1)]\n",
    "    for i in range(2,n-2):\n",
    "        for j in range(2,n-2):\n",
    "            if lattice[i][j].all() != 0:\n",
    "                adjacent[i][j] = []\n",
    "                for nb in neighbours:\n",
    "                    if (i+nb[0]>-1 and i+nb[0]<n) and (j+nb[1]>-1 and j+nb[1]<n):\n",
    "                        if lattice[i+nb[0]][j+nb[1]].all() !=0:\n",
    "                            adjacent[i][j].append((i+nb[0],j+nb[1]))\n",
    "\n",
    "adjacent_particles()"
   ]
  },
  {
   "cell_type": "code",
   "execution_count": null,
   "metadata": {},
   "outputs": [],
   "source": [
    "# this is what the output looks like for a particle stored at [12][12]\n",
    "print(adjacent[12][12])"
   ]
  },
  {
   "cell_type": "markdown",
   "metadata": {},
   "source": [
    "### Force calculation\n",
    "\n",
    "Step 1 : calculation <br>\n",
    "* for each neighbour of the particle calculate the force f = -k * (distance between the 2 particles - l)\n",
    "* to get fx and fy components multiply f with unit length of x or y\n",
    "* store sum of fx in xx and sum of fy in yy\n",
    "* anc is sum of the spring constants\n",
    "\n",
    "Step 2 : over relaxation\n",
    "* check if anc value is bigger than 0, if it is multiply xx and yy by 1/anc\n",
    "* check if sqrt(xx^2 + yy^2) is bigger than the relaxation threshold, if yes change the x and y position of the particle by adding the summed forces scaled by the fover variable\n",
    "\n",
    "Step 3 : add the stress calculation (the 3rd testcase will pass without this step)\n",
    "* sxx, syy and sxy are calculated by summing the corresponding force multiplied by half of the equilibrium length and the unit length \n",
    "* store these at corresponding position in the stress array: stress[i][j][0] = sxx,  stress[i][j][1] = syy, stress[i][j][2] = sxy\n"
   ]
  },
  {
   "cell_type": "code",
   "execution_count": null,
   "metadata": {},
   "outputs": [],
   "source": [
    "# task 3\n",
    "# i, j are for array indexing, you will need to access the x,y coordinates before you can use them\n",
    "def force(i, j): \n",
    "    global n, k, l, e, fover, stress #this will allow you to access and modify the variables declared outside this function\n",
    "    xx, yy, sxx, syy, sxy, anc = 0, 0, 0, 0, 0, 0 \n",
    "    \n",
    "# distance between 2 particles and force calculation\n",
    "\n",
    "\n",
    "        \n",
    "# overall force and stress(you can skip stress calculation for now)\n",
    "\n",
    "    \n",
    "    \n",
    "# over relaxation step       \n",
    "    \n",
    "      "
   ]
  },
  {
   "cell_type": "code",
   "execution_count": null,
   "metadata": {},
   "outputs": [],
   "source": [
    "# run the simulation here\n",
    "# low number of time steps will make debugging easier, you can increase it later\n",
    "def run_simulation():\n",
    "    global lattice, n\n",
    "    for z in range(10): #number of time steps\n",
    "        for i in range(2,n-2): # leaving the fixed borders out\n",
    "            for j in range(2,n-2):\n",
    "                if lattice[i][j].all()!=0:\n",
    "                    force(i, j)\n",
    "\n",
    "run_simulation()"
   ]
  },
  {
   "cell_type": "code",
   "execution_count": null,
   "metadata": {},
   "outputs": [],
   "source": [
    "t_lattice = np.loadtxt(\"tests/testsolve3.txt\")\n",
    "if (np.array_equal(lattice[:, :, 0].flatten()+lattice[:, :, 1].flatten(), t_lattice)):\n",
    "    print(\"Passed testcase 3\")\n",
    "else:\n",
    "    print(\"Failed testcase 3\")"
   ]
  },
  {
   "cell_type": "code",
   "execution_count": null,
   "metadata": {},
   "outputs": [],
   "source": [
    "# the lattice after n time steps\n",
    "x = lattice[:, :, 0]\n",
    "y = lattice[:, :, 1]\n",
    "\n",
    "plt.axis('off')\n",
    "plt.rcParams[\"figure.figsize\"] = (10,13)\n",
    "plt.scatter(x, y, s = 7)\n",
    "plt.show()"
   ]
  }
 ],
 "metadata": {
  "kernelspec": {
   "display_name": "Python 3",
   "language": "python",
   "name": "python3"
  },
  "language_info": {
   "codemirror_mode": {
    "name": "ipython",
    "version": 3
   },
   "file_extension": ".py",
   "mimetype": "text/x-python",
   "name": "python",
   "nbconvert_exporter": "python",
   "pygments_lexer": "ipython3",
   "version": "3.6.5"
  }
 },
 "nbformat": 4,
 "nbformat_minor": 4
}
