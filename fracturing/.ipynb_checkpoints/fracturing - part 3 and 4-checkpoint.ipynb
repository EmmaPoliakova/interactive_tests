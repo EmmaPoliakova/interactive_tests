{
 "cells": [
  {
   "cell_type": "markdown",
   "metadata": {},
   "source": [
    "## Stress calculation and fracturing"
   ]
  },
  {
   "cell_type": "markdown",
   "metadata": {},
   "source": [
    "Below are the functions you created in previous parts."
   ]
  },
  {
   "cell_type": "code",
   "execution_count": null,
   "metadata": {},
   "outputs": [],
   "source": [
    "import numpy as np\n",
    "import math\n",
    "import matplotlib.pyplot as plt\n",
    "import pandas as pd\n",
    "import random\n",
    "import json\n",
    "\n",
    "e = 0.03 #relaxation threshold\n",
    "k = 1.0 #spring constant\n",
    "l = 1.5 #equilibrium distance this is initially 2 in the lattice but is set to 1 for the simulation\n",
    "n = 100 # size of the array\n",
    "fover = 1.1 #over relaxation scale\n",
    "\n",
    "lattice = np.zeros([n,n,2,1]) #array with particle positions [0] = x, [1] = y\n",
    "adjacent = np.zeros([n,n]).tolist() #array with list of neighbour particles\n",
    "stress = np.zeros([n,n,3,1]) #sxx[0], syy[1], sxy[2] stress per particle \n"
   ]
  },
  {
   "cell_type": "code",
   "execution_count": null,
   "metadata": {},
   "outputs": [],
   "source": [
    "def triangular():\n",
    "    global lattice\n",
    "    for i in range(n):\n",
    "        for j in range(n):\n",
    "            if (i%2==0 and j%2==0) or (i%2==1 and j%2==1):\n",
    "                lattice[i][j][0] = i*math.sqrt(3)+2\n",
    "                lattice[i][j][1] = j+2"
   ]
  },
  {
   "cell_type": "code",
   "execution_count": null,
   "metadata": {},
   "outputs": [],
   "source": [
    "def circle():\n",
    "    global lattice\n",
    "    for i in range(n):\n",
    "        for j in range(n):\n",
    "            length = math.sqrt((i-49)**2 + (j-49)**2)\n",
    "            if length <= 10:\n",
    "                lattice[i][j][0] = 0\n",
    "                lattice[i][j][1] = 0"
   ]
  },
  {
   "cell_type": "code",
   "execution_count": null,
   "metadata": {},
   "outputs": [],
   "source": [
    "def adjacent_particles():\n",
    "    global adjacent\n",
    "    neighbours = [(-1,-1),(-1,1),(0,-2),(0,2),(1,-1),(1,1)]\n",
    "    for i in range(2,n-2):\n",
    "        for j in range(2,n-2):\n",
    "            if lattice[i][j].all() != 0:\n",
    "                adjacent[i][j] = []\n",
    "                for nb in neighbours:\n",
    "                    if (i+nb[0]>-1 and i+nb[0]<n) and (j+nb[1]>-1 and j+nb[1]<n):\n",
    "                        if lattice[i+nb[0]][j+nb[1]].all() !=0:\n",
    "                            adjacent[i][j].append((i+nb[0],j+nb[1]))\n"
   ]
  },
  {
   "cell_type": "code",
   "execution_count": null,
   "metadata": {},
   "outputs": [],
   "source": [
    "def force(i, j): \n",
    "    global stress, lattice #this will allow you to access and modify the variables declared outside this function\n",
    "    xx, yy, sxx, syy, sxy, anc = 0, 0, 0, 0, 0, 0 \n",
    "    \n",
    "# distance between 2 particles \n",
    "\n",
    "    for nb in adjacent[i][j]:\n",
    "        dx = lattice[i][j][0]-lattice[nb[0]][nb[1]][0]\n",
    "        dy = lattice[i][j][1]-lattice[nb[0]][nb[1]][1]\n",
    "        dd = math.sqrt(dx**2 + dy**2)\n",
    "\n",
    "\n",
    "        if (dd != 0):\n",
    "            uxi = dx/dd\n",
    "            uyi = dy/dd\n",
    "\n",
    "        else:  \n",
    "            uxi = 0.0\n",
    "            uyi = 0.0\n",
    "\n",
    "        fn = -k*(dd-l)\n",
    "        fx = fn*uxi\n",
    "        fy = fn*uyi\n",
    "        \n",
    "# overall force and stress\n",
    "        xx = xx + fx\n",
    "        yy = yy + fy\n",
    "        sxx = sxx + fx*(l/2)*uxi\n",
    "        syy = syy + fy*(l/2)*uyi\n",
    "        sxy = sxy + fx*(l/2)*uyi\n",
    "        anc = anc + k\n",
    "\n",
    "    stress[i][j][0] = sxx\n",
    "    stress[i][j][1] = syy\n",
    "    stress[i][j][2] = sxy\n",
    "    \n",
    "# over relaxation step       \n",
    "    \n",
    "    anc = 1.0/anc\n",
    "    xx = xx * anc        \n",
    "    yy = yy * anc\n",
    "        \n",
    "    if (e < math.sqrt((xx*xx)+(yy*yy))): \n",
    "        lattice[i][j][0] = lattice[i][j][0] + xx * fover   \n",
    "        lattice[i][j][1] = lattice[i][j][1] + yy * fover  \n",
    "       "
   ]
  },
  {
   "cell_type": "code",
   "execution_count": null,
   "metadata": {},
   "outputs": [],
   "source": [
    "def run_simulation():\n",
    "    for z in range(10): #number of time steps\n",
    "        for i in range(2,n-2): # leaving the fixed borders out\n",
    "            for j in range(2,n-2):\n",
    "                if lattice[i][j].all()!=0:\n",
    "                    force(i, j)"
   ]
  },
  {
   "cell_type": "code",
   "execution_count": null,
   "metadata": {},
   "outputs": [],
   "source": [
    "def stress_calculation():\n",
    "    global diff_stress, mean_stress\n",
    "    for i in range(2,n-2): \n",
    "        for j in range(2,n-2):\n",
    "            if lattice[i][j].all()!=0:\n",
    "                smax = ((stress[i][j][0] + stress[i][j][1]) / 2.0) + math.sqrt(((stress[i][j][0] - stress[i][j][1]) / 2.0) * ((stress[i][j][0] - stress[i][j][1]) / 2.0) + stress[i][j][2] * stress[i][j][2])\n",
    "                smin = ((stress[i][j][0] + stress[i][j][1]) / 2.0) - math.sqrt(((stress[i][j][0] - stress[i][j][1]) / 2.0) * ((stress[i][j][0] - stress[i][j][1]) / 2.0) + stress[i][j][2] * stress[i][j][2])\n",
    "                diff_stress[i][j] = smax - smin\n",
    "                mean_stress[i][j] = (smax + smin)/2"
   ]
  },
  {
   "cell_type": "markdown",
   "metadata": {},
   "source": [
    "### Part 3 - Fracturing "
   ]
  },
  {
   "cell_type": "markdown",
   "metadata": {},
   "source": [
    "Your task is to create a fracturing function that will select one spring from the lattice to break in each loop. The function should calculate fn the same way as the force function. It should then check if fn is bigger or equal to 0. If yes, it calculates ten_break = (fn/tb) + var_i. Var_i is a random number between -0.8 and 0.8 generated using random.uniform(-0.8 , 0.8). To pass the test use the random numbers from the given array called var. Once you do, you can replace var_i with the random.uniform function to create different results.<br>\n",
    "After calculating ten_break, check if it is bigger than 1, if it is, also compare it to mbreak. If it is greater than mbreak, save the 2 particles: (i,j) and nb as the position where the spring should break. Every time you discover a ten_break that is greater than the current mbreak choose a new spring_to_break along with spring_x and spring_y (i and j). "
   ]
  },
  {
   "cell_type": "code",
   "execution_count": null,
   "metadata": {},
   "outputs": [],
   "source": [
    "lattice = np.zeros([n,n,2,1])\n",
    "stress = np.zeros([n,n,3,1])\n",
    "triangular()\n",
    "adjacent_particles()\n",
    "var = np.loadtxt(\"tests/variation.txt\").reshape(50,100,100)\n",
    "var_i = 0 "
   ]
  },
  {
   "cell_type": "code",
   "execution_count": null,
   "metadata": {},
   "outputs": [],
   "source": [
    "#Task 1\n",
    "def fracturing(i,j):\n",
    "    global mbreak, spring_to_break, spring_x, spring_y\n",
    "    tb = 1\n",
    "    ten_break = 0\n"
   ]
  },
  {
   "cell_type": "markdown",
   "metadata": {},
   "source": [
    "Each loop (50 steps) should first do over relaxation (2 steps) and then loop over the lattice array to find the spring to break. Once the fracturing finishes, delete the spring from the adjacent array. Remember that each of the positions in the adjacent array has a list of values like this: [(11, 11), (11, 13), (12, 10), (12, 14), (13, 11), (13, 13)]. <br>\n",
    "If spring_to_break = (11, 11) then typing adjacent[12][12].remove(spring_to_break) will remove (11,11) from the list of adjacent particles. You will need to do the same thing for the particle at (11,11) removing (12,12). Since these are lists of tuples, if you save each coordinate separately then you need to add extra brackets in the remove statement. <br>\n",
    "After iterating over the lattice array, the fracturing function should have selected a spring to break. Do not delete springs between particles and boundaries. If the selected neighbour is a boundary then it has no list of neighbours in the adjacent array and the entry is equal to 0."
   ]
  },
  {
   "cell_type": "code",
   "execution_count": null,
   "metadata": {},
   "outputs": [],
   "source": [
    "#Task 2\n",
    "for h in range(50):\n",
    "    mbreak = 0\n",
    "    spring_to_break = 0\n",
    "    spring_x, spring_y = 0, 0\n",
    "    # using var_i = var[h][i][j] while iterating over the array will give you a new value of var_i\n",
    "    \n",
    "    \n",
    "    \n",
    "    # make a plot every 5 steps\n",
    "    if (h%5==0)\n",
    "        x = lattice[:, :, 0]\n",
    "        x = x[x!=0]\n",
    "        y = lattice[:, :, 1]\n",
    "        y = y[y!=0]\n",
    "\n",
    "        plt.axis('off')\n",
    "        plt.rcParams[\"figure.figsize\"] = (10,13)\n",
    "        plt.scatter(x, y, s = 15)\n",
    "        plt.show()"
   ]
  },
  {
   "cell_type": "code",
   "execution_count": null,
   "metadata": {},
   "outputs": [],
   "source": [
    "t_lattice = np.loadtxt(\"tests/testsolve10.txt\")\n",
    "if (np.array_equal(lattice.reshape(100*100*2*1), t_lattice)):\n",
    "    print(\"Passed testcase 10\")\n",
    "else:\n",
    "    print(\"Failed testcase 10\")"
   ]
  },
  {
   "cell_type": "code",
   "execution_count": null,
   "metadata": {},
   "outputs": [],
   "source": [
    "#data frame for stress plots\n",
    "\n",
    "diff_stress = np.zeros([n,n])\n",
    "mean_stress = np.zeros([n,n])\n",
    "stress_calculation()\n",
    "\n",
    "x = lattice[2:n-2, 2:n-2, 0].flatten()\n",
    "y = lattice[2:n-2, 2:n-2, 1].flatten()\n",
    "diff_stress = diff_stress[2:n-2, 2:n-2].flatten()\n",
    "diff_stress = diff_stress[x!=0]\n",
    "\n",
    "mean_stress = mean_stress[2:n-2, 2:n-2].flatten()\n",
    "mean_stress = mean_stress[x!=0]\n",
    "\n",
    "df = pd.DataFrame({'x': x[x!=0],\n",
    "                   'y': y[y!=0],\n",
    "                   'Differential stress': diff_stress,\n",
    "                   'Mean stress': mean_stress})"
   ]
  },
  {
   "cell_type": "code",
   "execution_count": null,
   "metadata": {},
   "outputs": [],
   "source": [
    "df.plot.scatter('x', 'y', s=15, c='Differential stress', cmap='RdPu')\n",
    "plt.axis('off')\n",
    "plt.show()"
   ]
  },
  {
   "cell_type": "code",
   "execution_count": null,
   "metadata": {},
   "outputs": [],
   "source": [
    "df.plot.scatter('x', 'y', s=15, c='Mean stress', cmap='YlOrRd')\n",
    "plt.axis('off')\n",
    "plt.show()"
   ]
  },
  {
   "cell_type": "markdown",
   "metadata": {},
   "source": [
    "### Extra example\n",
    "A high number of steps can take longer to run. You can use the data set below to explore fractures created over 2000 steps. Remove the '#' to load the lattice with the corresponding adjacency array and plot it. Do a stress calculation, then create a new data frame or run the 3 cells above to make the stress plots. You can also experiment with changing the equilibrium length and force calculation."
   ]
  },
  {
   "cell_type": "code",
   "execution_count": null,
   "metadata": {},
   "outputs": [],
   "source": [
    "#lattice = np.loadtxt('tests/lattice2000steps.txt').reshape(100, 100, 2, 1)\n",
    "#with open(\"adj.txt\", \"r\") as fp:\n",
    "#   adjacent = json.load(fp)"
   ]
  },
  {
   "cell_type": "code",
   "execution_count": null,
   "metadata": {},
   "outputs": [],
   "source": [
    "x = lattice[:, :, 0]\n",
    "x = x[x!=0]\n",
    "y = lattice[:, :, 1]\n",
    "y = y[y!=0]\n",
    "\n",
    "plt.axis('off')\n",
    "plt.rcParams[\"figure.figsize\"] = (10,13)\n",
    "plt.scatter(x, y, s = 15)\n",
    "plt.show()"
   ]
  },
  {
   "cell_type": "markdown",
   "metadata": {},
   "source": [
    "### Part 4 - Hydrofracture"
   ]
  },
  {
   "cell_type": "markdown",
   "metadata": {},
   "source": [
    "In this part you will create factures using fluid pressure. "
   ]
  },
  {
   "cell_type": "code",
   "execution_count": null,
   "metadata": {},
   "outputs": [],
   "source": [
    "l = 2.0\n",
    "lattice = np.zeros([n,n,2,1])\n",
    "stress = np.zeros([n,n,3,1])\n",
    "triangular()\n",
    "adjacent_particles()\n",
    "n1 = 170 # shape of the fluid array is n1 x n\n",
    "\n",
    "squares = {} # dictionary to remember the pressure sites with matching x and y gradients and the cells from fluid0 array they are made of \n",
    "belongsTo = np.zeros([n,n]).tolist() # array that matches each particle in the lattice to a pressure square\n"
   ]
  },
  {
   "cell_type": "markdown",
   "metadata": {},
   "source": [
    "The two cells below use code from the heat diffusion exercise. First assigning high presure to a selected area and then performing diffusion."
   ]
  },
  {
   "cell_type": "code",
   "execution_count": null,
   "metadata": {},
   "outputs": [],
   "source": [
    "#diffusion set up\n",
    "dx = dy = 0.1\n",
    "D = 5\n",
    "low, high = 0, 7 #pressure values\n",
    "\n",
    "fluid0 = np.full([n1,n], low) # pressure array\n",
    "fluid = fluid0.copy()\n",
    "\n",
    "dx2, dy2 = dx*dx, dy*dy\n",
    "dt = dx2 * dy2 / (2 * D * (dx2 + dy2))\n",
    "\n",
    "# Initial conditions - circle of radius r2 centred at (cx,cy)\n",
    "cx, cy = 85, 50\n",
    "r2 = 15\n",
    "for i in range(n1):\n",
    "    for j in range(n):\n",
    "        p2 = (i-cx)**2 + (j-cy)**2\n",
    "        if p2 < r2:\n",
    "            fluid0[i,j] = high"
   ]
  },
  {
   "cell_type": "code",
   "execution_count": null,
   "metadata": {},
   "outputs": [],
   "source": [
    "# function used in heat diffusion exercise\n",
    "def pressure_diffusion(u0, u):\n",
    "    for i in range(1,n1-1):\n",
    "        for j in range(1,n-1):\n",
    "            u[i,j] = u0[i,j] + D * dt * (\n",
    "                (u0[i+1, j] - 2*u0[i, j] + u0[i-1,j])/dx2\n",
    "              + (u0[i, j+1] - 2*u0[i, j] + u0[i, j-1])/dy2)           \n",
    "    u0 = u.copy()\n",
    "    \n",
    "    return u0, u"
   ]
  },
  {
   "cell_type": "markdown",
   "metadata": {},
   "source": [
    "Each 4 neighbouring cells in the fluid array connect to create a pressure square. To remember these squares use a dictionary whose keys are the coordinates of the top left corner and the bottom right corner of each square. A key points to pressure gradients for x and y and a list of array coordinates for the fluid array to calculate the gradients from. <br>\n",
    "A key looks like this : (x1, y1, x2, y2) <br>\n",
    "Your first task is to construct the dictionary with correct key coordinates. At the start 'Px' and 'Py' should be set to 0 and 'cells' should be a list of the four indexes that make up the blue square.<br>\n",
    "\n",
    "<br>\n",
    "To create the dictionary use the following syntax: <br>\n",
    "* a new entry in a dictionary: squares[key] = value <br>\n",
    "However, squares is a nested dictionary, that means calling squares[key] will return another dictionary with following values: Px, Py and cells. <br>\n",
    "* a new entry in a nested dictionary: squares[key] = {key: value, key: value, key: value} <br> \n",
    "\n"
   ]
  },
  {
   "cell_type": "markdown",
   "metadata": {},
   "source": [
    "This picture shows the fluid array. The blue square is a pressure square, Pn stands for pressure in a particular array cell. The order in which you save these to the dictionary is important later for calculating the gradient. \n",
    "<img src=\"files/tests/pressure_square.png\">"
   ]
  },
  {
   "cell_type": "markdown",
   "metadata": {},
   "source": [
    "All squares have size 1 and blue squares are shifted by 0.5 compared to the fluid lattice. Use i and j from for loops to get the x and y coordinates. All of them also need to be shifted by 2 to match the original lattice with particles.\n",
    "<img src=\"files/tests/pressure_square_detail.png\">"
   ]
  },
  {
   "cell_type": "code",
   "execution_count": null,
   "metadata": {},
   "outputs": [],
   "source": [
    "# Task 3: fill in the key coordinates, each key needs to follow this order: x1, y1, x2, y2\n",
    "for i in range(0,n1-1):\n",
    "    for j in range(0,n-1):\n",
    "        squares[#add ( x1, y1, x2, y2) here]  = {'Px':0, 'Py':0, 'cells': [[i,j],[i+1,j],[i,j+1],[i+1,j+1]]} # cells array stores indexes for fluid0 array to access the pressure values"
   ]
  },
  {
   "cell_type": "code",
   "execution_count": null,
   "metadata": {},
   "outputs": [],
   "source": [
    "#the following test checks the squares dictionary key construction\n",
    "square_keys = []\n",
    "for key in squares.keys():\n",
    "    square_keys.append([key]) \n",
    "square_keys = np.array(square_keys)"
   ]
  },
  {
   "cell_type": "code",
   "execution_count": null,
   "metadata": {},
   "outputs": [],
   "source": [
    "square_keys_1 = np.loadtxt(\"tests/testsolve11.txt\")\n",
    "if (np.array_equal(square_keys_1, square_keys.reshape(16731*4))):\n",
    "    print(\"Passed testcase 11\")\n",
    "else:\n",
    "    print(\"Failed testcase 11\")"
   ]
  },
  {
   "cell_type": "markdown",
   "metadata": {},
   "source": [
    "Your next task is to make a function that calculates Px and Py for each square in the dictionary. The for loop iterates over the dictionary keys, so that squares[key] will give you Px, Py and cells at once. If you want to get just the cells list you can do squares[key]['cells']. The same works with Px and Py.<br> \n",
    "Update the Px and Py in the dictionary by calculating the following: <br> \n",
    "* Px = ((P0 - P1) + (P2 - P3)) / 2 \n",
    "* Py = ((P0 - P2) + (P1 - P3)) / 2 <br>\n",
    "Use the indexes stored in 'cells' to get the pressure values in fluid0. <br>\n",
    "(Note: This step is a bit tedious)"
   ]
  },
  {
   "cell_type": "code",
   "execution_count": null,
   "metadata": {},
   "outputs": [],
   "source": [
    "# Task 4 \n",
    "def pressure_gradient():\n",
    "    global squares\n",
    "    for key in squares.keys():\n",
    "        #Px = \n",
    "        #Py = "
   ]
  },
  {
   "cell_type": "markdown",
   "metadata": {},
   "source": [
    "During each simulation loop you will need to assign each particle to a square. To find out which square a particle belongs to, first get the particle's coordinates. You can then round them and subtract or add 0.5 to create a key that will match the square dictionary. <br>\n",
    "To get just the coordinate number add extra [0] after the lattice indexing like this lattice[i][j][0][0]."
   ]
  },
  {
   "cell_type": "code",
   "execution_count": null,
   "metadata": {},
   "outputs": [],
   "source": [
    "# Task 5\n",
    "def whichSquare():\n",
    "    global belongsTo\n",
    "    for i in range(2,n-2):\n",
    "        for j in range(2,n-2):\n",
    "            round_x = round(#round x)\n",
    "            round_y = round(#round y)\n",
    "            belongsTo[i][j] = (#x1, y1, x2, y2) "
   ]
  },
  {
   "cell_type": "markdown",
   "metadata": {},
   "source": [
    "You will need to modify the original force function slightly to account for the newly added pressure. Add the matching Px and Py gradients to xx and yy after the neigbour loop finishes. The square the particle belongs to is saved at the same index as the particle. You can find it in belongsTo array. This will give you a dictionary key with the correct square. From there you can get Px and Py. "
   ]
  },
  {
   "cell_type": "code",
   "execution_count": null,
   "metadata": {},
   "outputs": [],
   "source": [
    "def forceAndPressure(i, j): \n",
    "    global stress, lattice\n",
    "    xx, yy, sxx, syy, sxy, anc = 0, 0, 0, 0, 0, 0 \n",
    "    \n",
    "# distance between 2 particles \n",
    "\n",
    "    for nb in adjacent[i][j]:\n",
    "        dx = lattice[i][j][0]-lattice[nb[0]][nb[1]][0]\n",
    "        dy = lattice[i][j][1]-lattice[nb[0]][nb[1]][1]\n",
    "        dd = math.sqrt(dx**2 + dy**2)\n",
    "\n",
    "\n",
    "        if (dd != 0):\n",
    "            uxi = dx/dd\n",
    "            uyi = dy/dd\n",
    "\n",
    "        else:  \n",
    "            uxi = 0.0\n",
    "            uyi = 0.0\n",
    "\n",
    "        fn = -k*(dd-l)\n",
    "        fx = fn*uxi \n",
    "        fy = fn*uyi \n",
    "        \n",
    "# overall force and stress\n",
    "        xx = xx + fx\n",
    "        yy = yy + fy\n",
    "        sxx = sxx + fx*(l/2)*uxi\n",
    "        syy = syy + fy*(l/2)*uyi\n",
    "        sxy = sxy + fx*(l/2)*uyi\n",
    "        anc = anc + k\n",
    "\n",
    "    stress[i][j][0] = sxx\n",
    "    stress[i][j][1] = syy\n",
    "    stress[i][j][2] = sxy\n",
    "    \n",
    "# Task 6: add the pressure gradient to xx and yy \n",
    "    \n",
    "    anc = anc + 1\n",
    "    \n",
    "# over relaxation step       \n",
    "    \n",
    "    anc = 1.0/anc\n",
    "    xx = xx * anc        \n",
    "    yy = yy * anc\n",
    "        \n",
    "    if (e < math.sqrt((xx*xx)+(yy*yy))): \n",
    "        lattice[i][j][0] = lattice[i][j][0] + xx * fover   \n",
    "        lattice[i][j][1] = lattice[i][j][1] + yy * fover  "
   ]
  },
  {
   "cell_type": "markdown",
   "metadata": {},
   "source": [
    "Finally, construct the simulation loop. First perform 2 steps of pressure diffusion. After that, update the pressure gradients and matching squares. Next do four steps of over relaxation using the modified function forceAndPressure. The last thing to do is to include the fracturing function and spring breaking."
   ]
  },
  {
   "cell_type": "code",
   "execution_count": null,
   "metadata": {},
   "outputs": [],
   "source": [
    "# Task 7 \n",
    "for z in range(5): \n",
    "    for c in range (2):\n",
    "    # diffusion\n",
    "    \n",
    "    # gradient and square assigning\n",
    "    \n",
    "    for w in range(4):\n",
    "    # over relaxation\n",
    "    \n",
    "    mbreak = 0\n",
    "    spring_to_break = 0\n",
    "    spring_x, spring_y = 0, 0\n",
    "\n",
    "    # fracture step\n",
    "    "
   ]
  },
  {
   "cell_type": "code",
   "execution_count": null,
   "metadata": {},
   "outputs": [],
   "source": [
    "x = lattice[:, :, 0]\n",
    "x = x[x!=0]\n",
    "y = lattice[:, :, 1]\n",
    "y = y[y!=0]\n",
    "\n",
    "plt.axis('off')\n",
    "plt.rcParams[\"figure.figsize\"] = (10,13)\n",
    "plt.scatter(x, y, s = 15)\n",
    "plt.show()"
   ]
  },
  {
   "cell_type": "code",
   "execution_count": null,
   "metadata": {},
   "outputs": [],
   "source": [
    "t_lattice = np.loadtxt(\"tests/testsolve12.txt\")\n",
    "if (np.array_equal(lattice.reshape(100*100*2*1), t_lattice)):\n",
    "    print(\"Passed testcase 12\")\n",
    "else:\n",
    "    print(\"Failed testcase 12\")"
   ]
  },
  {
   "cell_type": "code",
   "execution_count": null,
   "metadata": {},
   "outputs": [],
   "source": [
    "diff_stress = np.zeros([n,n])\n",
    "mean_stress = np.zeros([n,n])\n",
    "stress_calculation()\n",
    "\n",
    "x = lattice[2:n-2, 2:n-2, 0].flatten()\n",
    "y = lattice[2:n-2, 2:n-2, 1].flatten()\n",
    "diff_stress = diff_stress[2:n-2, 2:n-2].flatten()\n",
    "diff_stress = diff_stress[x!=0]\n",
    "\n",
    "mean_stress = mean_stress[2:n-2, 2:n-2].flatten()\n",
    "mean_stress = mean_stress[x!=0]\n",
    "\n",
    "df = pd.DataFrame({'x': x[x!=0],\n",
    "                   'y': y[y!=0],\n",
    "                   'Differential stress': diff_stress,\n",
    "                   'Mean stress': mean_stress})"
   ]
  },
  {
   "cell_type": "code",
   "execution_count": null,
   "metadata": {},
   "outputs": [],
   "source": [
    "df.plot.scatter('x', 'y', s=15, c='Differential stress', cmap='RdPu')\n",
    "plt.axis('off')\n",
    "plt.show()"
   ]
  },
  {
   "cell_type": "code",
   "execution_count": null,
   "metadata": {},
   "outputs": [],
   "source": [
    "df.plot.scatter('x', 'y', s=15, c='Mean stress', cmap='YlOrRd')\n",
    "plt.axis('off')\n",
    "plt.show()"
   ]
  }
 ],
 "metadata": {
  "kernelspec": {
   "display_name": "Python 3",
   "language": "python",
   "name": "python3"
  },
  "language_info": {
   "codemirror_mode": {
    "name": "ipython",
    "version": 3
   },
   "file_extension": ".py",
   "mimetype": "text/x-python",
   "name": "python",
   "nbconvert_exporter": "python",
   "pygments_lexer": "ipython3",
   "version": "3.6.5"
  }
 },
 "nbformat": 4,
 "nbformat_minor": 4
}
