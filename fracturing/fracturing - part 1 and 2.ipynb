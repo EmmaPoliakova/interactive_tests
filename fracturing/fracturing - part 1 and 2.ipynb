{
 "cells": [
  {
   "cell_type": "markdown",
   "metadata": {},
   "source": [
    "# Stress calculation and fracturing"
   ]
  },
  {
   "cell_type": "markdown",
   "metadata": {},
   "source": [
    "You will need the code from this part for part two and three. Make sure you download the complete exercise when you are finished. You can later upload this notebook back and use your code for the next two exercises. First save your code, then select this file in the folder and click download. "
   ]
  },
  {
   "cell_type": "code",
   "execution_count": null,
   "metadata": {},
   "outputs": [],
   "source": [
    "import numpy as np\n",
    "import math\n",
    "import matplotlib.pyplot as plt\n",
    "import pandas as pd\n",
    "\n",
    "e = 0.001 #relaxation threshold\n",
    "k = 1.0 #spring constant\n",
    "l = 1.0 #equilibrium distance this is initially 2 in the lattice but is set to 1 for the simulation\n",
    "n = 100 # size of the array\n",
    "fover = 1.1 #over relaxation scale\n",
    "\n",
    "lattice = np.zeros([n,n,2,1]) #array with particle positions [0] = x, [1] = y\n",
    "adjacent = np.zeros([n,n]).tolist() #array with list of neighbour particles\n",
    "stress = np.zeros([n,n,3,1]) #sxx[0], syy[1], sxy[2] stress per particle\n",
    "diff_stress = np.zeros([n,n])\n",
    "mean_stress = np.zeros([n,n])\n"
   ]
  },
  {
   "cell_type": "markdown",
   "metadata": {},
   "source": [
    "## Part 1 - Triangular lattice and force calculation"
   ]
  },
  {
   "cell_type": "markdown",
   "metadata": {},
   "source": [
    "We'll start by creating the triangular lattice. The particles are stored in an array called lattice, which is an n x n x 2 x 1 array. The particles have two different sets of coordinates. To access the location where the particle is stored, use the usual indexing of arrays. To access the actual xy position of the particle you will need to write lattice[i][j][0] for the x coordinate and lattice[i][j][1] for the y coordinate. When creating the lattice you will need to scale the x coordinate with math.sqrt(3). This will make the triangles equilateral. <br>\n",
    "Below is the pattern in which the particles are arranged in the array. The empty positions are stored as 0 in the lattice array. If you want to find out if there is a particle in the current position use lattice[i][j].all()!=0  "
   ]
  },
  {
   "cell_type": "markdown",
   "metadata": {},
   "source": [
    "<img src=\"files/tests/lattice.png\">"
   ]
  },
  {
   "cell_type": "code",
   "execution_count": null,
   "metadata": {},
   "outputs": [],
   "source": [
    "# task 1: \n",
    "# fill the array called lattice so that it forms a triangular lattice, the distance between particles is 2 initially\n",
    "# use the variable n for iterating over the array, this will make experimenting with different sizes easier\n",
    "# the y coordinate remains the same as the array index\n",
    "# the x coordinate needs to be scaled before assigning\n",
    "# shift both coordinates by 2\n",
    "def triangular():\n",
    "    global n, lattice #this will allow you to access and modify the variables declared outside this function\n",
    "\n",
    "\n",
    "triangular()\n"
   ]
  },
  {
   "cell_type": "code",
   "execution_count": null,
   "metadata": {},
   "outputs": [],
   "source": [
    "t_lattice = np.loadtxt(\"tests/testsolve1.txt\")\n",
    "if (np.array_equal(lattice[:, :, 0].flatten()+lattice[:, :, 1].flatten(), t_lattice)):\n",
    "    print(\"Passed testcase 1\")\n",
    "else:\n",
    "    print(\"Failed testcase 1\")"
   ]
  },
  {
   "cell_type": "code",
   "execution_count": null,
   "metadata": {},
   "outputs": [],
   "source": [
    "# if you did this correctly, the plot below will display particles that form triangles\n",
    "# if the displayed plot is too small run this cell again to apply the settings\n",
    "# the plot is upside down compared to the array\n",
    "x = lattice[:, :, 0]\n",
    "x = x[x!=0]\n",
    "y = lattice[:, :, 1]\n",
    "y = y[y!=0]\n",
    "\n",
    "plt.axis('off')\n",
    "plt.rcParams[\"figure.figsize\"] = (10,13)\n",
    "plt.scatter(x, y, s = 15)\n",
    "plt.show()"
   ]
  },
  {
   "cell_type": "markdown",
   "metadata": {},
   "source": [
    "To observe the effect of change in the equilibrium distance we'll make a hole in the middle of the lattice. The centre of the circle is at [49, 49] and the radius is 10 (included). Your task is to remove the particles from this circle by setting the particles' xy coordinates back to 0. "
   ]
  },
  {
   "cell_type": "code",
   "execution_count": null,
   "metadata": {},
   "outputs": [],
   "source": [
    "# task 2\n",
    "def circle():\n",
    "    global n, lattice\n",
    "\n",
    "    \n",
    "circle()            \n",
    "        "
   ]
  },
  {
   "cell_type": "code",
   "execution_count": null,
   "metadata": {},
   "outputs": [],
   "source": [
    "t_lattice = np.loadtxt(\"tests/testsolve2.txt\")\n",
    "if (np.array_equal(lattice[:, :, 0].flatten()+lattice[:, :, 1].flatten(), t_lattice)):\n",
    "    print(\"Passed testcase 2\")\n",
    "else:\n",
    "    print(\"Failed testcase 2\")"
   ]
  },
  {
   "cell_type": "code",
   "execution_count": null,
   "metadata": {},
   "outputs": [],
   "source": [
    "# the plot should show the same lattice as above but with the centre particles removed\n",
    "x = lattice[:, :, 0]\n",
    "x = x[x!=0]\n",
    "y = lattice[:, :, 1]\n",
    "y = y[y!=0]\n",
    "\n",
    "plt.axis('off')\n",
    "plt.rcParams[\"figure.figsize\"] = (10,13)\n",
    "plt.scatter(x, y, s = 15)\n",
    "plt.show()"
   ]
  },
  {
   "cell_type": "markdown",
   "metadata": {},
   "source": [
    "This part of the code creates a list of neigbours for each particle in the lattice and stores it in array called adjacent. The array indexes match for lattice and adjacent. Using adjacent[i][j] will return a list of array coordinates (not the actual x,y positions) of adjacent particles. <br>\n",
    "You can iterate over the items in a list without having to use indexes using syntax: <br>\n",
    "<br>\n",
    "for item in list:\n",
    "    #do something"
   ]
  },
  {
   "cell_type": "code",
   "execution_count": null,
   "metadata": {},
   "outputs": [],
   "source": [
    "# this code creates adjacency list for each particle in the lattice\n",
    "# if you use this array in the force calculation you will not need to check for borders or empty spaces however, it is not necessary\n",
    "def adjacent_particles():\n",
    "    global lattice, n, adjacent\n",
    "    neighbours = [(-1,-1),(-1,1),(0,-2),(0,2),(1,-1),(1,1)]\n",
    "    for i in range(2,n-2):\n",
    "        for j in range(2,n-2):\n",
    "            if lattice[i][j].all() != 0:\n",
    "                adjacent[i][j] = []\n",
    "                for nb in neighbours:\n",
    "                    if (i+nb[0]>-1 and i+nb[0]<n) and (j+nb[1]>-1 and j+nb[1]<n):\n",
    "                        if lattice[i+nb[0]][j+nb[1]].all() !=0:\n",
    "                            adjacent[i][j].append((i+nb[0],j+nb[1]))\n",
    "\n",
    "adjacent_particles()"
   ]
  },
  {
   "cell_type": "code",
   "execution_count": null,
   "metadata": {},
   "outputs": [],
   "source": [
    "# this is what the output looks like for a particle stored at [12][12]\n",
    "print(adjacent[12][12])"
   ]
  },
  {
   "cell_type": "markdown",
   "metadata": {},
   "source": [
    "### Force calculation\n",
    "\n",
    "Step 1 : calculation <br>\n",
    "* for each neighbour of the particle calculate the force f = -k * (distance between the 2 particles - l)\n",
    "* to get fx and fy components multiply f with unit length of x or y\n",
    "* store sum of fx in xx and sum of fy in yy\n",
    "* anc is sum of the spring constants\n",
    "\n",
    "Step 2 : over relaxation\n",
    "* check if anc value is bigger than 0, if it is multiply xx and yy by 1/anc\n",
    "* check if sqrt(xx^2 + yy^2) is bigger than the relaxation threshold, if yes change the x and y position of the particle by adding the summed forces scaled by the fover variable\n",
    "\n",
    "Step 3 : add the stress calculation (the 3rd testcase will pass without this step)\n",
    "* sxx, syy and sxy are calculated by summing the corresponding force multiplied by half of the equilibrium length and the unit length \n",
    "* store these at corresponding position in the stress array: stress[i][j][0] = sxx,  stress[i][j][1] = syy, stress[i][j][2] = sxy\n"
   ]
  },
  {
   "cell_type": "code",
   "execution_count": null,
   "metadata": {},
   "outputs": [],
   "source": [
    "# task 3\n",
    "# i, j are for array indexing, you will need to access the x,y coordinates before you can use them\n",
    "def force(i, j): \n",
    "    global n, k, l, e, fover, stress #this will allow you to access and modify the variables declared outside this function\n",
    "    xx, yy, sxx, syy, sxy, anc = 0, 0, 0, 0, 0, 0 \n",
    "    \n",
    "# distance between 2 particles and force calculation\n",
    "\n",
    "\n",
    "        \n",
    "# overall force and stress\n",
    "\n",
    "\n",
    "\n",
    "#save the stress sums sxx, syy and sxy in the stress array (stress[0] = sxx, stress[1] = syy, stress[2] = sxy)\n",
    "\n",
    "    \n",
    "    \n",
    "# over relaxation step       \n",
    "    \n",
    "      "
   ]
  },
  {
   "cell_type": "code",
   "execution_count": null,
   "metadata": {},
   "outputs": [],
   "source": [
    "# run the simulation here\n",
    "# low number of time steps will make debugging easier, you can increase it later\n",
    "def run_simulation():\n",
    "    global lattice, n\n",
    "    for z in range(10): #number of time steps\n",
    "        for i in range(2,n-2): # leaving the fixed borders out\n",
    "            for j in range(2,n-2):\n",
    "                if lattice[i][j].all()!=0:\n",
    "                    force(i, j)\n",
    "\n",
    "run_simulation()"
   ]
  },
  {
   "cell_type": "code",
   "execution_count": null,
   "metadata": {},
   "outputs": [],
   "source": [
    "t_lattice = np.loadtxt(\"tests/testsolve3.txt\")\n",
    "if (np.array_equal(lattice[:, :, 0].flatten()+lattice[:, :, 1].flatten(), t_lattice)):\n",
    "    print(\"Passed testcase 3\")\n",
    "else:\n",
    "    print(\"Failed testcase 3\")"
   ]
  },
  {
   "cell_type": "code",
   "execution_count": null,
   "metadata": {},
   "outputs": [],
   "source": [
    "# the lattice after n time steps\n",
    "x = lattice[:, :, 0]\n",
    "x = x[x!=0]\n",
    "y = lattice[:, :, 1]\n",
    "y = y[y!=0]\n",
    "\n",
    "plt.axis('off')\n",
    "plt.rcParams[\"figure.figsize\"] = (10,13)\n",
    "plt.scatter(x, y, s = 15)\n",
    "plt.show()"
   ]
  },
  {
   "cell_type": "markdown",
   "metadata": {},
   "source": [
    "## Part 2 - Stress calculation"
   ]
  },
  {
   "cell_type": "markdown",
   "metadata": {},
   "source": [
    "Make the stress_calculation function to be able to plot the stress in the lattice. For every particle in the stress array (leaving out the borders of size 2) calculate and store differential and mean stress in the corresponding arrays. \n",
    "* smax = ((sxx + syy) / 2.0) + sqrt(((sxx - syy) / 2.0) * ((sxx - syy) / 2.0) + sxy * sxy)\n",
    "* smin = ((sxx + syy) / 2.0) - sqrt(((sxx - syy) / 2.0) * ((sxx - syy) / 2.0) + sxy * sxy)"
   ]
  },
  {
   "cell_type": "code",
   "execution_count": null,
   "metadata": {},
   "outputs": [],
   "source": [
    "def stress_calculation():\n",
    "    global stress, diff_stress, mean_stress"
   ]
  },
  {
   "cell_type": "code",
   "execution_count": null,
   "metadata": {},
   "outputs": [],
   "source": [
    "#call the stress calculation function and save the results in a data frame\n",
    "stress_calculation()\n",
    "\n",
    "x = lattice[2:n-2, 2:n-2, 0].flatten()\n",
    "y = lattice[2:n-2, 2:n-2, 1].flatten()\n",
    "diff_stress = diff_stress[2:n-2, 2:n-2].flatten()\n",
    "diff_stress = diff_stress[x!=0]\n",
    "\n",
    "mean_stress = mean_stress[2:n-2, 2:n-2].flatten()\n",
    "mean_stress = mean_stress[x!=0]\n",
    "\n",
    "df = pd.DataFrame({'x': x[x!=0],\n",
    "                   'y': y[y!=0],\n",
    "                   'Differential stress': diff_stress,\n",
    "                   'Mean stress': mean_stress})\n"
   ]
  },
  {
   "cell_type": "code",
   "execution_count": null,
   "metadata": {},
   "outputs": [],
   "source": [
    "d_stress = np.loadtxt(\"tests/testsolve4.txt\")\n",
    "if (np.array_equal(diff_stress, d_stress)):\n",
    "    print(\"Passed testcase 4\")\n",
    "else:\n",
    "    print(\"Failed testcase 4\")"
   ]
  },
  {
   "cell_type": "code",
   "execution_count": null,
   "metadata": {},
   "outputs": [],
   "source": [
    "m_stress = np.loadtxt(\"tests/testsolve5.txt\")\n",
    "if (np.array_equal(mean_stress, m_stress)):\n",
    "    print(\"Passed testcase 5\")\n",
    "else:\n",
    "    print(\"Failed testcase 5\")"
   ]
  },
  {
   "cell_type": "markdown",
   "metadata": {},
   "source": [
    "You can change the colour schemes (for better visibility) in the plots by replacing the cmap string. E.g. 'viridis', 'plasma', 'inferno', 'magma', 'cividis', 'Greys', 'Purples', 'Blues', 'Greens', 'Oranges', 'Reds'"
   ]
  },
  {
   "cell_type": "code",
   "execution_count": null,
   "metadata": {},
   "outputs": [],
   "source": [
    "# plot that shows differential stress\n",
    "df.plot.scatter('x', 'y', s=15, c='Differential stress', cmap='RdPu')\n",
    "plt.axis('off')\n",
    "plt.show()"
   ]
  },
  {
   "cell_type": "code",
   "execution_count": null,
   "metadata": {},
   "outputs": [],
   "source": [
    "# plot that shows mean stress\n",
    "df.plot.scatter('x', 'y', s=15, c='Mean stress', cmap='YlOrRd')\n",
    "plt.axis('off')\n",
    "plt.show()"
   ]
  },
  {
   "cell_type": "markdown",
   "metadata": {},
   "source": [
    "Here we'll calculate a different type of stress. Instead of changing the equilibrium distance we will move the top wall closer to the particles. <br>\n",
    "You will need to reset the lattice and the stress array back to the starting position (use the same variable names as before). The equilibrium distance should now be 2 instead of 1. <br>\n",
    "Move the top 2 rows (in the plot) down by 1.2.  You will need to adjust the rest of the particles (including the side boundaries) between the top and bottom wall. "
   ]
  },
  {
   "cell_type": "code",
   "execution_count": null,
   "metadata": {},
   "outputs": [],
   "source": [
    "#reset the variables here, the lattice should have a hole in the middle \n",
    "\n",
    "\n",
    "# move the top 2 rows by 1.2\n",
    "\n",
    "\n",
    "\n",
    "# first part only tests the boundary movement, adjust the particles in the next part           \n",
    "x = lattice[:, :, 0]\n",
    "x = x[x!=0]\n",
    "y = lattice[:, :, 1]\n",
    "y = y[y!=0]\n",
    "\n",
    "plt.axis('off')\n",
    "plt.rcParams[\"figure.figsize\"] = (10,13)\n",
    "plt.scatter(x, y, s = 15)\n",
    "plt.show()\n",
    "            \n"
   ]
  },
  {
   "cell_type": "code",
   "execution_count": null,
   "metadata": {},
   "outputs": [],
   "source": [
    "t_lattice = np.loadtxt(\"tests/testsolve6.txt\")\n",
    "if (np.array_equal(lattice[:, :, 0].flatten()+lattice[:, :, 1].flatten(), t_lattice)):\n",
    "    print(\"Passed testcase 6\")\n",
    "else:\n",
    "    print(\"Failed testcase 6\")"
   ]
  },
  {
   "cell_type": "markdown",
   "metadata": {},
   "source": [
    "The y-coordinates of all particles between the top and bottom wall will move as follows: y - (y-2)*1.2/98.9 <br>\n",
    "1.2 is the amount the wall shifted by, 98.8 is the new lattice height. "
   ]
  },
  {
   "cell_type": "code",
   "execution_count": null,
   "metadata": {},
   "outputs": [],
   "source": [
    "# move the particles and create new adjacency array here\n",
    "\n",
    "\n",
    "            \n",
    "x = lattice[:, :, 0]\n",
    "x = x[x!=0]\n",
    "y = lattice[:, :, 1]\n",
    "y = y[y!=0]\n",
    "\n",
    "plt.axis('off')\n",
    "plt.rcParams[\"figure.figsize\"] = (10,13)\n",
    "plt.scatter(x, y, s = 15)\n",
    "plt.show()"
   ]
  },
  {
   "cell_type": "code",
   "execution_count": null,
   "metadata": {},
   "outputs": [],
   "source": [
    "t_lattice = np.loadtxt(\"tests/testsolve7.txt\")\n",
    "if (np.array_equal(lattice[:, :, 0].flatten()+lattice[:, :, 1].flatten(), t_lattice)):\n",
    "    print(\"Passed testcase 7\")\n",
    "else:\n",
    "    print(\"Failed testcase 7\")"
   ]
  },
  {
   "cell_type": "code",
   "execution_count": null,
   "metadata": {},
   "outputs": [],
   "source": [
    "df1.plot.scatter('x', 'y', s=15)\n",
    "plt.axis('off')\n",
    "plt.show()"
   ]
  },
  {
   "cell_type": "code",
   "execution_count": null,
   "metadata": {},
   "outputs": [],
   "source": [
    "df1.plot.scatter('x', 'y', s=15, c='Differential stress', cmap='RdPu')\n",
    "plt.axis('off')\n",
    "plt.show()"
   ]
  },
  {
   "cell_type": "code",
   "execution_count": null,
   "metadata": {},
   "outputs": [],
   "source": [
    "df1.plot.scatter('x', 'y', s=15, c='Mean stress', cmap='YlOrRd')\n",
    "plt.axis('off')\n",
    "plt.show()"
   ]
  },
  {
   "cell_type": "markdown",
   "metadata": {},
   "source": [
    "### While loop modification\n",
    "\n",
    "Modify the run simulation function so that instead of a for loop it runs until no more particles are moving. You will also need to change the force function slightly. The easiest way to do this is to create a boolean variable that will change state as soon as at least one particle moved and will keep the while loop running. <br>\n",
    "For example, a variable called moved is set to True before starting the simulation. At the start of each while loop moved is set to False as if no particles moved. If during the force calculation any of the particles change position, moved is switched back to True and therefore the next iteration will start."
   ]
  },
  {
   "cell_type": "markdown",
   "metadata": {},
   "source": [
    "There are other ways to do this, you can create your own solution if you wish. "
   ]
  },
  {
   "cell_type": "code",
   "execution_count": null,
   "metadata": {},
   "outputs": [],
   "source": [
    "def run_simulation_while():\n",
    "    global lattice, n"
   ]
  },
  {
   "cell_type": "markdown",
   "metadata": {},
   "source": [
    "Reset the lattice once again. This time we will use a distance of 1.7 and relaxation threshold = 0.003, the simulation should take between 2-4 minutes to finish."
   ]
  },
  {
   "cell_type": "code",
   "execution_count": null,
   "metadata": {},
   "outputs": [],
   "source": [
    "# adjust the variables and reset the lattice here\n",
    "\n",
    "\n",
    "\n",
    "#run the new simulation function here\n",
    "\n",
    "\n",
    "\n",
    "\n",
    "x = lattice[:, :, 0]\n",
    "x1 = lattice[:, :, 0]\n",
    "y = lattice[:, :, 1]\n",
    "x = x[(x1!=0) & (y!=0)]\n",
    "y = y[(x1!=0) & (y!=0)]\n",
    "\n",
    "plt.axis('off')\n",
    "plt.rcParams[\"figure.figsize\"] = (10,13)\n",
    "plt.scatter(x, y, s = 7)\n",
    "plt.show()\n"
   ]
  },
  {
   "cell_type": "code",
   "execution_count": null,
   "metadata": {},
   "outputs": [],
   "source": [
    "t_lattice = np.loadtxt(\"tests/testsolve9.txt\")\n",
    "if (np.array_equal(lattice[:, :, 0].flatten()+lattice[:, :, 1].flatten(), t_lattice)):\n",
    "    print(\"Passed testcase 9\")\n",
    "else:\n",
    "    print(\"Failed testcase 9\")"
   ]
  }
 ],
 "metadata": {
  "kernelspec": {
   "display_name": "Python 3",
   "language": "python",
   "name": "python3"
  },
  "language_info": {
   "codemirror_mode": {
    "name": "ipython",
    "version": 3
   },
   "file_extension": ".py",
   "mimetype": "text/x-python",
   "name": "python",
   "nbconvert_exporter": "python",
   "pygments_lexer": "ipython3",
   "version": "3.6.5"
  }
 },
 "nbformat": 4,
 "nbformat_minor": 4
}
