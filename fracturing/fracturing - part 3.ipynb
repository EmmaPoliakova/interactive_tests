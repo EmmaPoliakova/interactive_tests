{
 "cells": [
  {
   "cell_type": "markdown",
   "metadata": {},
   "source": [
    "## Stress calculation and fracturing"
   ]
  },
  {
   "cell_type": "markdown",
   "metadata": {},
   "source": [
    "Below are the functions you created in previous parts."
   ]
  },
  {
   "cell_type": "code",
   "execution_count": null,
   "metadata": {},
   "outputs": [],
   "source": [
    "import numpy as np\n",
    "import math\n",
    "import matplotlib.pyplot as plt\n",
    "import pandas as pd\n",
    "import random\n",
    "import json\n",
    "\n",
    "e = 0.03 #relaxation threshold\n",
    "k = 1.0 #spring constant\n",
    "l = 1.5 #equilibrium distance this is initially 2 in the lattice but is set to 1 for the simulation\n",
    "n = 100 # size of the array\n",
    "fover = 1.1 #over relaxation scale\n",
    "\n",
    "lattice = np.zeros([n,n,2,1]) #array with particle positions [0] = x, [1] = y\n",
    "adjacent = np.zeros([n,n]).tolist() #array with list of neighbour particles\n",
    "stress = np.zeros([n,n,3,1]) #sxx[0], syy[1], sxy[2] stress per particle \n"
   ]
  },
  {
   "cell_type": "code",
   "execution_count": null,
   "metadata": {},
   "outputs": [],
   "source": [
    "def triangular():\n",
    "    global n, lattice\n",
    "    for i in range(n):\n",
    "        for j in range(n):\n",
    "            if (i%2==0 and j%2==0) or (i%2==1 and j%2==1):\n",
    "                lattice[i][j][0] = i*math.sqrt(3)+2\n",
    "                lattice[i][j][1] = j+2"
   ]
  },
  {
   "cell_type": "code",
   "execution_count": null,
   "metadata": {},
   "outputs": [],
   "source": [
    "def circle():\n",
    "    global n, lattice\n",
    "    for i in range(n):\n",
    "        for j in range(n):\n",
    "            length = math.sqrt((i-49)**2 + (j-49)**2)\n",
    "            if length <= 10:\n",
    "                lattice[i][j][0] = 0\n",
    "                lattice[i][j][1] = 0"
   ]
  },
  {
   "cell_type": "code",
   "execution_count": null,
   "metadata": {},
   "outputs": [],
   "source": [
    "def adjacent_particles():\n",
    "    global lattice, n, adjacent\n",
    "    neighbours = [(-1,-1),(-1,1),(0,-2),(0,2),(1,-1),(1,1)]\n",
    "    for i in range(2,n-2):\n",
    "        for j in range(2,n-2):\n",
    "            if lattice[i][j].all() != 0:\n",
    "                adjacent[i][j] = []\n",
    "                for nb in neighbours:\n",
    "                    if (i+nb[0]>-1 and i+nb[0]<n) and (j+nb[1]>-1 and j+nb[1]<n):\n",
    "                        if lattice[i+nb[0]][j+nb[1]].all() !=0:\n",
    "                            adjacent[i][j].append((i+nb[0],j+nb[1]))\n"
   ]
  },
  {
   "cell_type": "code",
   "execution_count": null,
   "metadata": {},
   "outputs": [],
   "source": [
    "def force(i, j): \n",
    "    global n, k, l, e, fover, stress, lattice #this will allow you to access and modify the variables declared outside this function\n",
    "    xx, yy, sxx, syy, sxy, anc = 0, 0, 0, 0, 0, 0 \n",
    "    \n",
    "# distance between 2 particles \n",
    "\n",
    "    for nb in adjacent[i][j]:\n",
    "        dx = lattice[i][j][0]-lattice[nb[0]][nb[1]][0]\n",
    "        dy = lattice[i][j][1]-lattice[nb[0]][nb[1]][1]\n",
    "        dd = math.sqrt(dx**2 + dy**2)\n",
    "\n",
    "\n",
    "        if (dd != 0):\n",
    "            uxi = dx/dd\n",
    "            uyi = dy/dd\n",
    "\n",
    "        else:  \n",
    "            uxi = 0.0\n",
    "            uyi = 0.0\n",
    "\n",
    "        fn = -k*(dd-l)\n",
    "        fx = fn*uxi\n",
    "        fy = fn*uyi\n",
    "        \n",
    "# overall force and stress\n",
    "        xx = xx + fx\n",
    "        yy = yy + fy\n",
    "        sxx = sxx + fx*(l/2)*uxi\n",
    "        syy = syy + fy*(l/2)*uyi\n",
    "        sxy = sxy + fx*(l/2)*uyi\n",
    "        anc = anc + k\n",
    "\n",
    "    stress[i][j][0] = sxx\n",
    "    stress[i][j][1] = syy\n",
    "    stress[i][j][2] = sxy\n",
    "    \n",
    "# over relaxation step       \n",
    "    \n",
    "    anc = 1.0/anc\n",
    "    xx = xx * anc        \n",
    "    yy = yy * anc\n",
    "        \n",
    "    if (e < math.sqrt((xx*xx)+(yy*yy))): \n",
    "        lattice[i][j][0] = lattice[i][j][0] + xx * fover   \n",
    "        lattice[i][j][1] = lattice[i][j][1] + yy * fover  \n",
    "       "
   ]
  },
  {
   "cell_type": "code",
   "execution_count": null,
   "metadata": {},
   "outputs": [],
   "source": [
    "def run_simulation():\n",
    "    global lattice, n\n",
    "    for z in range(10): #number of time steps\n",
    "        for i in range(2,n-2): # leaving the fixed borders out\n",
    "            for j in range(2,n-2):\n",
    "                if lattice[i][j].all()!=0:\n",
    "                    force(i, j)"
   ]
  },
  {
   "cell_type": "code",
   "execution_count": null,
   "metadata": {},
   "outputs": [],
   "source": [
    "def stress_calculation():\n",
    "    global stress, diff_stress, mean_stress\n",
    "    for i in range(2,n-2): \n",
    "        for j in range(2,n-2):\n",
    "            if lattice[i][j].all()!=0:\n",
    "                smax = ((stress[i][j][0] + stress[i][j][1]) / 2.0) + math.sqrt(((stress[i][j][0] - stress[i][j][1]) / 2.0) * ((stress[i][j][0] - stress[i][j][1]) / 2.0) + stress[i][j][2] * stress[i][j][2])\n",
    "                smin = ((stress[i][j][0] + stress[i][j][1]) / 2.0) - math.sqrt(((stress[i][j][0] - stress[i][j][1]) / 2.0) * ((stress[i][j][0] - stress[i][j][1]) / 2.0) + stress[i][j][2] * stress[i][j][2])\n",
    "                diff_stress[i][j] = smax - smin\n",
    "                mean_stress[i][j] = (smax + smin)/2"
   ]
  },
  {
   "cell_type": "markdown",
   "metadata": {},
   "source": [
    "### Part 3 - Fracturing "
   ]
  },
  {
   "cell_type": "markdown",
   "metadata": {},
   "source": [
    "Your task is to create a fracturing function that will select one spring from the lattice to break in each loop. The function should calculate fn the same way as the force function. It should then check if fn is bigger or equal to 0. If yes, it calculates ten_break = (fn/tb) + var_i. Var_i is a random number between -0.8 and 0.8 generated using random.uniform(-0.8 , 0.8). To pass the test use the random numbers from the given array called var. Once you do, you can replace var_i with the random.uniform function to create different results.<br>\n",
    "After calculating ten_break, check if it is bigger than 1, if it is, also compare it to mbreak. If it is greater than mbreak, save the 2 particles: (i,j) and nb as the position where the spring should break. Every time you discover a ten_break that is greater than the current mbreak choose a new spring_to_break along with spring_x and spring_y (i and j). "
   ]
  },
  {
   "cell_type": "code",
   "execution_count": null,
   "metadata": {},
   "outputs": [],
   "source": [
    "lattice = np.zeros([n,n,2,1])\n",
    "stress = np.zeros([n,n,3,1])\n",
    "triangular()\n",
    "adjacent_particles()\n",
    "var = np.loadtxt(\"tests/variation.txt\").reshape(50,100,100)\n",
    "var_i = 0 "
   ]
  },
  {
   "cell_type": "code",
   "execution_count": null,
   "metadata": {},
   "outputs": [],
   "source": [
    "#Task 1\n",
    "def fracturing(i,j):\n",
    "    global n, k, l, mbreak, spring_to_break, spring_x, spring_y, var_i\n",
    "    tb = 1\n",
    "    ten_break = 0\n"
   ]
  },
  {
   "cell_type": "markdown",
   "metadata": {},
   "source": [
    "Each loop (50 steps) should first do over relaxation (2 steps) and then loop over the lattice array to find the spring to break. Once the fracturing finishes, delete the spring from the adjacent array. Remember that each of the positions in the adjacent array has a list of values like this: [(11, 11), (11, 13), (12, 10), (12, 14), (13, 11), (13, 13)]. <br>\n",
    "If spring_to_break = (11, 11) then typing adjacent[12][12].remove(spring_to_break) will remove (11,11) from the list of adjacent particles. You will need to do the same thing for the particle at (11,11) removing (12,12). Since these are lists of tuples, if you save each coordinate separately then you need to add extra brackets in the remove statement. <br>\n",
    "After iterating over the lattice array, the fracturing function should have selected a spring to break. Do not delete springs between particles and boundaries. If the selected neighbour is a boundary then it has no list of neighbours in the adjacent array and the entry is equal to 0."
   ]
  },
  {
   "cell_type": "code",
   "execution_count": null,
   "metadata": {},
   "outputs": [],
   "source": [
    "#Task 2\n",
    "for h in range(50):\n",
    "    mbreak = 0\n",
    "    spring_to_break = 0\n",
    "    spring_x, spring_y = 0, 0\n",
    "    # using var_i = var[h][i][j] while iterating over the array will give you a new value of var_i\n",
    "    \n",
    "    \n",
    "    \n",
    "    # make a plot every 5 steps\n",
    "    if (h%5==0)\n",
    "        x = lattice[:, :, 0]\n",
    "        x = x[x!=0]\n",
    "        y = lattice[:, :, 1]\n",
    "        y = y[y!=0]\n",
    "\n",
    "        plt.axis('off')\n",
    "        plt.rcParams[\"figure.figsize\"] = (10,13)\n",
    "        plt.scatter(x, y, s = 15)\n",
    "        plt.show()"
   ]
  },
  {
   "cell_type": "code",
   "execution_count": null,
   "metadata": {},
   "outputs": [],
   "source": [
    "t_lattice = np.loadtxt(\"tests/testsolve10.txt\")\n",
    "if (np.array_equal(lattice.reshape(100*100*2*1), t_lattice)):\n",
    "    print(\"Passed testcase 10\")\n",
    "else:\n",
    "    print(\"Failed testcase 10\")"
   ]
  },
  {
   "cell_type": "code",
   "execution_count": null,
   "metadata": {},
   "outputs": [],
   "source": [
    "#data frame for stress plots\n",
    "\n",
    "diff_stress = np.zeros([n,n])\n",
    "mean_stress = np.zeros([n,n])\n",
    "stress_calculation()\n",
    "\n",
    "x = lattice[2:n-2, 2:n-2, 0].flatten()\n",
    "y = lattice[2:n-2, 2:n-2, 1].flatten()\n",
    "diff_stress = diff_stress[2:n-2, 2:n-2].flatten()\n",
    "diff_stress = diff_stress[x!=0]\n",
    "\n",
    "mean_stress = mean_stress[2:n-2, 2:n-2].flatten()\n",
    "mean_stress = mean_stress[x!=0]\n",
    "\n",
    "df = pd.DataFrame({'x': x[x!=0],\n",
    "                   'y': y[y!=0],\n",
    "                   'Differential stress': diff_stress,\n",
    "                   'Mean stress': mean_stress})"
   ]
  },
  {
   "cell_type": "code",
   "execution_count": null,
   "metadata": {},
   "outputs": [],
   "source": [
    "df.plot.scatter('x', 'y', s=15, c='Differential stress', cmap='RdPu')\n",
    "plt.axis('off')\n",
    "plt.show()"
   ]
  },
  {
   "cell_type": "code",
   "execution_count": null,
   "metadata": {},
   "outputs": [],
   "source": [
    "df.plot.scatter('x', 'y', s=15, c='Mean stress', cmap='YlOrRd')\n",
    "plt.axis('off')\n",
    "plt.show()"
   ]
  },
  {
   "cell_type": "markdown",
   "metadata": {},
   "source": [
    "### Extra example\n",
    "A high number of steps can take longer to run. You can use the data set below to explore fractures created over 2000 steps. Remove the '#' to load the lattice with the corresponding adjacency array and plot it. Do a stress calculation, then create a new data frame or run the 3 cells above to make the stress plots. You can also experiment with changing the equilibrium length and force calculation."
   ]
  },
  {
   "cell_type": "code",
   "execution_count": null,
   "metadata": {},
   "outputs": [],
   "source": [
    "#lattice = np.loadtxt('tests/lattice2000steps.txt').reshape(100, 100, 2, 1)\n",
    "#with open(\"adj.txt\", \"r\") as fp:\n",
    "#   adjacent = json.load(fp)"
   ]
  },
  {
   "cell_type": "code",
   "execution_count": null,
   "metadata": {},
   "outputs": [],
   "source": [
    "x = lattice[:, :, 0]\n",
    "x = x[x!=0]\n",
    "y = lattice[:, :, 1]\n",
    "y = y[y!=0]\n",
    "\n",
    "plt.axis('off')\n",
    "plt.rcParams[\"figure.figsize\"] = (10,13)\n",
    "plt.scatter(x, y, s = 15)\n",
    "plt.show()"
   ]
  }
 ],
 "metadata": {
  "kernelspec": {
   "display_name": "Python 3",
   "language": "python",
   "name": "python3"
  },
  "language_info": {
   "codemirror_mode": {
    "name": "ipython",
    "version": 3
   },
   "file_extension": ".py",
   "mimetype": "text/x-python",
   "name": "python",
   "nbconvert_exporter": "python",
   "pygments_lexer": "ipython3",
   "version": "3.6.5"
  }
 },
 "nbformat": 4,
 "nbformat_minor": 4
}
